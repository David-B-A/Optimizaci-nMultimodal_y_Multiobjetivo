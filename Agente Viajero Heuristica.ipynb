{
 "cells": [
  {
   "cell_type": "code",
   "execution_count": 14,
   "metadata": {
    "ExecuteTime": {
     "end_time": "2019-03-06T05:43:52.589121Z",
     "start_time": "2019-03-06T05:43:52.488291Z"
    }
   },
   "outputs": [],
   "source": [
    "import numpy as np\n",
    "import random\n",
    "import math\n",
    "import csv"
   ]
  },
  {
   "cell_type": "code",
   "execution_count": 87,
   "metadata": {
    "ExecuteTime": {
     "end_time": "2019-03-06T03:33:41.505493Z",
     "start_time": "2019-03-06T03:33:41.497376Z"
    },
    "code_folding": [
     0
    ]
   },
   "outputs": [],
   "source": [
    "## Imprimir posiciones de nodos\n",
    "'''n = 10\n",
    "mcostos = np.empty((n,2))\n",
    "for i in range(0,n):\n",
    "    for j in range(0,2):\n",
    "        mcostos[i,j] = int(random.random()*100)\n",
    "f = open(\"/home/dabelloa/Documents/Evolutiva/AgenteViajeroNodos.csv\",'w')\n",
    "with f:\n",
    "    writer = csv.writer(f)\n",
    "    writer.writerows(mcostos)\n",
    "'''"
   ]
  },
  {
   "cell_type": "code",
   "execution_count": 109,
   "metadata": {
    "ExecuteTime": {
     "end_time": "2019-03-06T07:02:51.343654Z",
     "start_time": "2019-03-06T07:02:51.306326Z"
    },
    "code_folding": [
     0,
     4,
     9,
     18,
     35,
     61
    ]
   },
   "outputs": [],
   "source": [
    "class powerLaw:\n",
    "    def generate(self, alpha, mult):\n",
    "        nd = random.random();\n",
    "        return mult*math.pow((nd),(1/(1-alpha)));\n",
    "class individuo:\n",
    "    x=[]\n",
    "    f=0\n",
    "    pc = 0\n",
    "    pm = 0\n",
    "class agViajeroEuclidiano:\n",
    "    def __init__(self,nodos):\n",
    "        self.nodos = nodos\n",
    "    def fitness(self,x):\n",
    "        costo = 0\n",
    "        for i in range(1,len(x)):\n",
    "            x1 = nodos[x[i-1],0]\n",
    "            y1 = nodos[x[i-1],1]\n",
    "            x2 = nodos[x[i],0]\n",
    "            y2 = nodos[x[i],1]\n",
    "            costo = costo + math.sqrt((x2-x1)**2+(y2-y1)**2)\n",
    "        x1 = nodos[x[len(x)-1],0]\n",
    "        y1 = nodos[x[len(x)-1],1]\n",
    "        x2 = nodos[x[0],0]\n",
    "        y2 = nodos[x[0],1]\n",
    "        costo = costo + math.sqrt((x2-x1)**2+(y2-y1)**2)\n",
    "        return costo\n",
    "class heuristicaNN:\n",
    "    def solucionar(self, n, nodos):\n",
    "        factibles = list(range(0,n))\n",
    "        posnuevo = int(random.random()*n)\n",
    "        x = []\n",
    "        x.append(factibles[posnuevo])\n",
    "        factibles = factibles[0:posnuevo] + factibles[posnuevo + 1:]\n",
    "        while len(factibles) > 0:\n",
    "            posnuevo = 0\n",
    "            x1 = nodos[x[len(x)-1],0]\n",
    "            y1 = nodos[x[len(x)-1],1]\n",
    "            x2 = nodos[factibles[posnuevo],0]\n",
    "            y2 = nodos[factibles[posnuevo],1]\n",
    "            mindist = math.sqrt((x2-x1)**2+(y2-y1)**2)\n",
    "            for i in range(0,len(factibles)):\n",
    "                x1 = nodos[x[len(x)-1],0]\n",
    "                y1 = nodos[x[len(x)-1],1]\n",
    "                x2 = nodos[factibles[i],0]\n",
    "                y2 = nodos[factibles[i],1]\n",
    "                dist = math.sqrt((x2-x1)**2+(y2-y1)**2)\n",
    "                if dist < mindist:\n",
    "                    posnuevo = i\n",
    "                    mindist = dist\n",
    "            x.append(factibles[posnuevo])\n",
    "            factibles = factibles[0:posnuevo] + factibles[posnuevo + 1:]\n",
    "        return x"
   ]
  },
  {
   "cell_type": "code",
   "execution_count": 95,
   "metadata": {
    "ExecuteTime": {
     "end_time": "2019-03-06T06:25:25.644770Z",
     "start_time": "2019-03-06T06:25:25.626200Z"
    },
    "code_folding": [
     0
    ],
    "scrolled": true
   },
   "outputs": [],
   "source": [
    "#Heurística del vecino más cercano - Agente viajero con distancia euclidiana\n",
    "rows = []\n",
    "with open('/home/dabelloa/Documents/Evolutiva/AgenteViajeroNodos.csv') as File:\n",
    "    reader = csv.reader(File, delimiter=',', quotechar=',',\n",
    "                        quoting=csv.QUOTE_MINIMAL)\n",
    "    for row in reader:\n",
    "        rows.append(row)\n",
    "    nodos = np.array(rows)\n",
    "    nodos = nodos.astype(np.float)\n",
    "func = agViajeroEuclidiano(nodos)\n",
    "alg = heuristicaNN()\n",
    "n=10\n",
    "sol = alg.solucionar(10,nodos)\n",
    "x = sol.copy()\n",
    "x.append(sol[0])\n",
    "f = func.fitness(x)"
   ]
  },
  {
   "cell_type": "code",
   "execution_count": 96,
   "metadata": {
    "ExecuteTime": {
     "end_time": "2019-03-06T06:25:31.889398Z",
     "start_time": "2019-03-06T06:25:27.885994Z"
    },
    "code_folding": [
     0
    ]
   },
   "outputs": [],
   "source": [
    "#Preparación Plotly\n",
    "import plotly.plotly as py\n",
    "from plotly.grid_objs import Grid, Column\n",
    "import time\n",
    "py.sign_in('research123', 'nhcP58x2hVKS1GIuA7NF')"
   ]
  },
  {
   "cell_type": "code",
   "execution_count": 106,
   "metadata": {
    "ExecuteTime": {
     "end_time": "2019-03-06T06:30:49.052008Z",
     "start_time": "2019-03-06T06:30:47.373643Z"
    },
    "code_folding": [
     0
    ]
   },
   "outputs": [
    {
     "data": {
      "text/plain": [
       "'https://plot.ly/~research123/115/'"
      ]
     },
     "execution_count": 106,
     "metadata": {},
     "output_type": "execute_result"
    }
   ],
   "source": [
    "#Plotly data\n",
    "columns = []\n",
    "for i in range(0, len(x)+1):\n",
    "    temp = Column(nodos[x[0:i],0], 'x'+str(i))\n",
    "    columns.append(temp)\n",
    "    temp = Column(nodos[x[0:i],1], 'y'+str(i))\n",
    "    columns.append(temp)\n",
    "temp = Column(nodos[:,0], 'xfunc')\n",
    "columns.append(temp)\n",
    "temp = Column(nodos[:,1], 'yfunc')\n",
    "columns.append(temp)\n",
    "\n",
    "grid = Grid(columns)\n",
    "py.grid_ops.upload(grid, 'AVdata_Heuristica__'+str(time.time()), auto_open=False)"
   ]
  },
  {
   "cell_type": "code",
   "execution_count": 108,
   "metadata": {
    "ExecuteTime": {
     "end_time": "2019-03-06T06:31:30.841316Z",
     "start_time": "2019-03-06T06:31:29.314636Z"
    },
    "code_folding": [
     0
    ]
   },
   "outputs": [
    {
     "data": {
      "text/html": [
       "<iframe id=\"igraph\" scrolling=\"no\" style=\"border:none;\" seamless=\"seamless\" src=\"https://plot.ly/~research123/117.embed\" height=\"525px\" width=\"100%\"></iframe>"
      ],
      "text/plain": [
       "<plotly.tools.PlotlyDisplay object>"
      ]
     },
     "execution_count": 108,
     "metadata": {},
     "output_type": "execute_result"
    }
   ],
   "source": [
    "#Plotly plot\n",
    "sliders_dict = {\n",
    "    'active': 0,\n",
    "    'yanchor': 'top',\n",
    "    'xanchor': 'left',\n",
    "    'currentvalue': {\n",
    "        'font': {'size': 20},\n",
    "        'prefix': 'Iter:',\n",
    "        'visible': True,\n",
    "        'xanchor': 'right'\n",
    "    },\n",
    "    'transition': {'duration': 300, 'easing': 'cubic-in-out'},\n",
    "    'pad': {'b': 10, 't': 50},\n",
    "    'len': 0.9,\n",
    "    'x': 0.1,\n",
    "    'y': 0,\n",
    "    'steps': []\n",
    "}\n",
    "\n",
    "\n",
    "updatemenus_dict = [\n",
    "    {\n",
    "        'buttons': [\n",
    "            {\n",
    "                'args': [None, {'frame': {'duration': 500, 'redraw': False},\n",
    "                         'fromcurrent': True, 'transition': {'duration': 300, 'easing': 'quadratic-in-out'}}],\n",
    "                'label': 'Play',\n",
    "                'method': 'animate'\n",
    "            },\n",
    "            {\n",
    "                'args': [[None], {'frame': {'duration': 0, 'redraw': False}, 'mode': 'immediate',\n",
    "                'transition': {'duration': 0}}],\n",
    "                'label': 'Pause',\n",
    "                'method': 'animate'\n",
    "            }\n",
    "        ],\n",
    "        'direction': 'left',\n",
    "        'pad': {'r': 10, 't': 87},\n",
    "        'showactive': False,\n",
    "        'type': 'buttons',\n",
    "        'x': 0.1,\n",
    "        'xanchor': 'right',\n",
    "        'y': 0,\n",
    "        'yanchor': 'top'\n",
    "    }\n",
    "]\n",
    "\n",
    "figure = {\n",
    "    'data': [],\n",
    "    'layout': {'title': 'Agente viajero: Heurística del vecino más cercano. Fitness: '+ str(f),\n",
    "               'xaxis': {'range': [0, 100], 'autorange': False},\n",
    "               'yaxis': {'range': [0, 100], 'autorange': False},\n",
    "              },\n",
    "    'frames': []\n",
    "}\n",
    "figure['layout']['updatemenus'] = updatemenus_dict\n",
    "funcion = {\n",
    "    'xsrc': grid.get_column_reference('xfunc'),\n",
    "    'ysrc': grid.get_column_reference('yfunc'),\n",
    "    'mode': 'markers',\n",
    "    'marker': {\n",
    "            'size': 10,\n",
    "            'color': '#000000'\n",
    "        },\n",
    "}\n",
    "figure['data'].append(funcion)\n",
    "individuos = {\n",
    "    'xsrc': grid.get_column_reference('x0'),\n",
    "    'ysrc': grid.get_column_reference('y0'),\n",
    "    'mode': 'lines',\n",
    "        'marker': {\n",
    "            'size': 10,\n",
    "            'color': '#ff7777'\n",
    "        },\n",
    "}\n",
    "figure['data'].append(individuos)\n",
    "for i in range(0,len(x)+1):\n",
    "    frame = {'data': [], 'name': str(i)}\n",
    "    data_dict = {\n",
    "        'xsrc': grid.get_column_reference('x'+str(i)),\n",
    "        'ysrc': grid.get_column_reference('y'+str(i)),\n",
    "        'mode': 'lines',\n",
    "    }\n",
    "    frame['data'].append({})\n",
    "    frame['data'].append(data_dict)\n",
    "    figure['frames'].append(frame)\n",
    "    slider_step = {'args': [\n",
    "        [i],\n",
    "        {'frame': {'duration': 300, 'redraw': False},\n",
    "         'mode': 'immediate',\n",
    "       'transition': {'duration': 300}}\n",
    "     ],\n",
    "     'label': str(i),\n",
    "     'method': 'animate'}\n",
    "    sliders_dict['steps'].append(slider_step)\n",
    "figure['layout']['sliders'] = [sliders_dict]\n",
    "py.icreate_animations(figure,'AV_Heurística__'+str(time.time()))"
   ]
  },
  {
   "cell_type": "code",
   "execution_count": 9,
   "metadata": {
    "ExecuteTime": {
     "end_time": "2019-03-06T05:27:44.479990Z",
     "start_time": "2019-03-06T05:27:44.471047Z"
    }
   },
   "outputs": [
    {
     "data": {
      "text/plain": [
       "[1, 3, 4]"
      ]
     },
     "execution_count": 9,
     "metadata": {},
     "output_type": "execute_result"
    }
   ],
   "source": [
    "a = [1,2,3,4]\n",
    "a = a[0:1] + a[2:]\n",
    "a"
   ]
  }
 ],
 "metadata": {
  "kernelspec": {
   "display_name": "Python 3",
   "language": "python",
   "name": "python3"
  },
  "language_info": {
   "codemirror_mode": {
    "name": "ipython",
    "version": 3
   },
   "file_extension": ".py",
   "mimetype": "text/x-python",
   "name": "python",
   "nbconvert_exporter": "python",
   "pygments_lexer": "ipython3",
   "version": "3.6.7"
  }
 },
 "nbformat": 4,
 "nbformat_minor": 2
}
