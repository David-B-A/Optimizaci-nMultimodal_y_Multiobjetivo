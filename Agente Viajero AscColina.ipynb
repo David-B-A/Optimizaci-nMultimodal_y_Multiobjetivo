{
 "cells": [
  {
   "cell_type": "code",
   "execution_count": 1,
   "metadata": {
    "ExecuteTime": {
     "end_time": "2019-03-06T06:10:41.105766Z",
     "start_time": "2019-03-06T06:10:40.976202Z"
    }
   },
   "outputs": [],
   "source": [
    "import numpy as np\n",
    "import random\n",
    "import math\n",
    "import csv"
   ]
  },
  {
   "cell_type": "code",
   "execution_count": 3,
   "metadata": {
    "ExecuteTime": {
     "end_time": "2019-03-06T06:10:41.195515Z",
     "start_time": "2019-03-06T06:10:41.129191Z"
    },
    "code_folding": [
     0
    ]
   },
   "outputs": [
    {
     "data": {
      "text/plain": [
       "'n = 10\\nmcostos = np.empty((n,2))\\nfor i in range(0,n):\\n    for j in range(0,2):\\n        mcostos[i,j] = int(random.random()*100)\\nf = open(\"/home/dabelloa/Documents/Evolutiva/AgenteViajeroNodos.csv\",\\'w\\')\\nwith f:\\n    writer = csv.writer(f)\\n    writer.writerows(mcostos)\\n'"
      ]
     },
     "execution_count": 3,
     "metadata": {},
     "output_type": "execute_result"
    }
   ],
   "source": [
    "## Imprimir posiciones de nodos\n",
    "'''n = 10\n",
    "mcostos = np.empty((n,2))\n",
    "for i in range(0,n):\n",
    "    for j in range(0,2):\n",
    "        mcostos[i,j] = int(random.random()*100)\n",
    "f = open(\"/home/dabelloa/Documents/Evolutiva/AgenteViajeroNodos.csv\",'w')\n",
    "with f:\n",
    "    writer = csv.writer(f)\n",
    "    writer.writerows(mcostos)\n",
    "'''"
   ]
  },
  {
   "cell_type": "code",
   "execution_count": 13,
   "metadata": {
    "ExecuteTime": {
     "end_time": "2019-03-06T08:50:47.796238Z",
     "start_time": "2019-03-06T08:50:47.760267Z"
    },
    "code_folding": [
     0,
     4,
     9,
     18,
     35
    ]
   },
   "outputs": [],
   "source": [
    "class powerLaw:\n",
    "    def generate(self, alpha, mult):\n",
    "        nd = random.random();\n",
    "        return mult*math.pow((nd),(1/(1-alpha)));\n",
    "class individuo:\n",
    "    x=[]\n",
    "    f=0\n",
    "    pc = 0\n",
    "    pm = 0\n",
    "class agViajeroEuclidiano:\n",
    "    def __init__(self,nodos):\n",
    "        self.nodos = nodos\n",
    "    def fitness(self,x):\n",
    "        costo = 0\n",
    "        for i in range(1,len(x)):\n",
    "            x1 = nodos[x[i-1],0]\n",
    "            y1 = nodos[x[i-1],1]\n",
    "            x2 = nodos[x[i],0]\n",
    "            y2 = nodos[x[i],1]\n",
    "            costo = costo + math.sqrt((x2-x1)**2+(y2-y1)**2)\n",
    "        x1 = nodos[x[len(x)-1],0]\n",
    "        y1 = nodos[x[len(x)-1],1]\n",
    "        x2 = nodos[x[0],0]\n",
    "        y2 = nodos[x[0],1]\n",
    "        costo = costo + math.sqrt((x2-x1)**2+(y2-y1)**2)\n",
    "        return costo\n",
    "class ascColina:\n",
    "    def nuevaGen(self, padre, mult, alpha, func):\n",
    "        hijo = individuo()\n",
    "        hijo.x = padre.x.copy()\n",
    "        pl = powerLaw()\n",
    "        aCambiar = int(pl.generate(3,2))\n",
    "        if aCambiar > len(x)/2 - 1:\n",
    "            aCambiar = len(x)/2 - 1\n",
    "        if aCambiar < 1:\n",
    "            aCambiar = 1\n",
    "        posiciones = []\n",
    "        for i in range(0,int(aCambiar*2)):\n",
    "            propuesta = int(random.uniform(0,len(x)))\n",
    "            aceptable = True\n",
    "            for j in range(0,len(posiciones)):\n",
    "                if propuesta == posiciones[j] or propuesta >= len(x):\n",
    "                    aceptable = False\n",
    "            if aceptable:\n",
    "                posiciones.append(propuesta)\n",
    "            else:\n",
    "                i = i-1\n",
    "        for i in range(0, int(len(posiciones)/2)):\n",
    "            j = int(len(posiciones)/2) + i\n",
    "            temp = hijo.x[posiciones[i]]\n",
    "            hijo.x[posiciones[i]] = hijo.x[posiciones[j]]\n",
    "            hijo.x[posiciones[j]] = temp\n",
    "        f = func.fitness(hijo.x)\n",
    "        hijo.f = f        \n",
    "        if padre.f <= hijo.f:\n",
    "            return padre\n",
    "        else:\n",
    "            return hijo\n"
   ]
  },
  {
   "cell_type": "code",
   "execution_count": 14,
   "metadata": {
    "ExecuteTime": {
     "end_time": "2019-03-06T08:50:49.173342Z",
     "start_time": "2019-03-06T08:50:49.135516Z"
    },
    "code_folding": [
     0
    ],
    "scrolled": true
   },
   "outputs": [],
   "source": [
    "##Ascenso a la colina - Agente viajero con distancia euclidiana\n",
    "rows = []\n",
    "with open('/home/dabelloa/Documents/Evolutiva/AgenteViajeroNodos.csv') as File:\n",
    "    reader = csv.reader(File, delimiter=',', quotechar=',',\n",
    "                        quoting=csv.QUOTE_MINIMAL)\n",
    "    for row in reader:\n",
    "        rows.append(row)\n",
    "    nodos = np.array(rows)\n",
    "    nodos = nodos.astype(np.float)\n",
    "n = 1\n",
    "d = 10\n",
    "iteraciones = 100\n",
    "x = np.arange(0,d,1)\n",
    "np.random.shuffle(x)\n",
    "ind = individuo()\n",
    "ind.x = x\n",
    "func = agViajeroEuclidiano(nodos)\n",
    "ind.f = func.fitness(x)\n",
    "alg = ascColina()\n",
    "columnasx = []\n",
    "columnasy = []\n",
    "valoresfitness = []\n",
    "temp = list(ind.x)\n",
    "temp.append(ind.x[0])\n",
    "columnasx.append(nodos[temp,0])\n",
    "columnasy.append(nodos[temp,1])\n",
    "valoresfitness.append(ind.f)\n",
    "for i in range(0, iteraciones):\n",
    "    temp = alg.nuevaGen(ind, 4, 2, func)\n",
    "    ind = temp\n",
    "    temp = list(ind.x)\n",
    "    temp.append(ind.x[0])\n",
    "    columnasx.append(nodos[temp,0])\n",
    "    columnasy.append(nodos[temp,1])\n",
    "    f = ind.f\n",
    "    valoresfitness.append(f)"
   ]
  },
  {
   "cell_type": "code",
   "execution_count": 8,
   "metadata": {
    "ExecuteTime": {
     "end_time": "2019-03-06T06:12:00.642124Z",
     "start_time": "2019-03-06T06:11:59.048763Z"
    },
    "code_folding": [
     0
    ]
   },
   "outputs": [],
   "source": [
    "#Preparación Plotly\n",
    "import plotly.plotly as py\n",
    "from plotly.grid_objs import Grid, Column\n",
    "import time\n",
    "py.sign_in('research123', 'nhcP58x2hVKS1GIuA7NF')"
   ]
  },
  {
   "cell_type": "code",
   "execution_count": 9,
   "metadata": {
    "ExecuteTime": {
     "end_time": "2019-03-06T06:12:08.442989Z",
     "start_time": "2019-03-06T06:12:06.770153Z"
    },
    "code_folding": [
     0
    ]
   },
   "outputs": [
    {
     "data": {
      "text/plain": [
       "'https://plot.ly/~research123/99/'"
      ]
     },
     "execution_count": 9,
     "metadata": {},
     "output_type": "execute_result"
    }
   ],
   "source": [
    "#Plotly data\n",
    "columns = []\n",
    "for i in range(0, len(columnasx)):\n",
    "    temp = Column(columnasx[i], 'x'+str(i))\n",
    "    columns.append(temp)\n",
    "for i in range(0, len(columnasy)):\n",
    "    temp = Column(columnasy[i], 'y'+str(i))\n",
    "    columns.append(temp)\n",
    "temp = Column(nodos[:,0], 'xfunc')\n",
    "columns.append(temp)\n",
    "temp = Column(nodos[:,1], 'yfunc')\n",
    "columns.append(temp)\n",
    "\n",
    "grid = Grid(columns)\n",
    "py.grid_ops.upload(grid, 'AVdata_AscColina__'+str(time.time()), auto_open=False)"
   ]
  },
  {
   "cell_type": "code",
   "execution_count": 10,
   "metadata": {
    "ExecuteTime": {
     "end_time": "2019-03-06T06:12:10.905016Z",
     "start_time": "2019-03-06T06:12:09.551702Z"
    },
    "code_folding": [
     0
    ]
   },
   "outputs": [
    {
     "name": "stderr",
     "output_type": "stream",
     "text": [
      "/home/dabelloa/.local/lib/python3.6/site-packages/IPython/core/display.py:689: UserWarning:\n",
      "\n",
      "Consider using IPython.display.IFrame instead\n",
      "\n"
     ]
    },
    {
     "data": {
      "text/html": [
       "<iframe id=\"igraph\" scrolling=\"no\" style=\"border:none;\" seamless=\"seamless\" src=\"https://plot.ly/~research123/100.embed\" height=\"525px\" width=\"100%\"></iframe>"
      ],
      "text/plain": [
       "<plotly.tools.PlotlyDisplay object>"
      ]
     },
     "execution_count": 10,
     "metadata": {},
     "output_type": "execute_result"
    }
   ],
   "source": [
    "#Plotly plot\n",
    "sliders_dict = {\n",
    "    'active': 0,\n",
    "    'yanchor': 'top',\n",
    "    'xanchor': 'left',\n",
    "    'currentvalue': {\n",
    "        'font': {'size': 20},\n",
    "        'prefix': 'Iter:',\n",
    "        'visible': True,\n",
    "        'xanchor': 'right'\n",
    "    },\n",
    "    'transition': {'duration': 300, 'easing': 'cubic-in-out'},\n",
    "    'pad': {'b': 10, 't': 50},\n",
    "    'len': 0.9,\n",
    "    'x': 0.1,\n",
    "    'y': 0,\n",
    "    'steps': []\n",
    "}\n",
    "\n",
    "\n",
    "updatemenus_dict = [\n",
    "    {\n",
    "        'buttons': [\n",
    "            {\n",
    "                'args': [None, {'frame': {'duration': 500, 'redraw': False},\n",
    "                         'fromcurrent': True, 'transition': {'duration': 300, 'easing': 'quadratic-in-out'}}],\n",
    "                'label': 'Play',\n",
    "                'method': 'animate'\n",
    "            },\n",
    "            {\n",
    "                'args': [[None], {'frame': {'duration': 0, 'redraw': False}, 'mode': 'immediate',\n",
    "                'transition': {'duration': 0}}],\n",
    "                'label': 'Pause',\n",
    "                'method': 'animate'\n",
    "            }\n",
    "        ],\n",
    "        'direction': 'left',\n",
    "        'pad': {'r': 10, 't': 87},\n",
    "        'showactive': False,\n",
    "        'type': 'buttons',\n",
    "        'x': 0.1,\n",
    "        'xanchor': 'right',\n",
    "        'y': 0,\n",
    "        'yanchor': 'top'\n",
    "    }\n",
    "]\n",
    "\n",
    "figure = {\n",
    "    'data': [],\n",
    "    'layout': {'title': 'Agente viajero: ascenso a la colina',\n",
    "               'xaxis': {'range': [0, 100], 'autorange': False},\n",
    "               'yaxis': {'range': [0, 100], 'autorange': False},\n",
    "              },\n",
    "    'frames': []\n",
    "}\n",
    "figure['layout']['updatemenus'] = updatemenus_dict\n",
    "funcion = {\n",
    "    'xsrc': grid.get_column_reference('xfunc'),\n",
    "    'ysrc': grid.get_column_reference('yfunc'),\n",
    "    'mode': 'markers',\n",
    "    'marker': {\n",
    "            'size': 10,\n",
    "            'color': '#000000'\n",
    "        },\n",
    "}\n",
    "figure['data'].append(funcion)\n",
    "individuos = {\n",
    "    'xsrc': grid.get_column_reference('x0'),\n",
    "    'ysrc': grid.get_column_reference('y0'),\n",
    "    'mode': 'lines',\n",
    "        'marker': {\n",
    "            'size': 10,\n",
    "            'color': '#ff7777'\n",
    "        },\n",
    "}\n",
    "figure['data'].append(individuos)\n",
    "for i in range(0,len(columnasx)):\n",
    "    frame = {'data': [], 'name': str(i)}\n",
    "    data_dict = {\n",
    "        'xsrc': grid.get_column_reference('x'+str(i)),\n",
    "        'ysrc': grid.get_column_reference('y'+str(i)),\n",
    "        'mode': 'lines',\n",
    "    }\n",
    "    frame['data'].append({})\n",
    "    frame['data'].append(data_dict)\n",
    "    figure['frames'].append(frame)\n",
    "    slider_step = {'args': [\n",
    "        [i],\n",
    "        {'frame': {'duration': 300, 'redraw': False},\n",
    "         'mode': 'immediate',\n",
    "       'transition': {'duration': 300}}\n",
    "     ],\n",
    "     'label': str(i) + \", fitness: \" + str(valoresfitness[i]),\n",
    "     'method': 'animate'}\n",
    "    sliders_dict['steps'].append(slider_step)\n",
    "figure['layout']['sliders'] = [sliders_dict]\n",
    "py.icreate_animations(figure,'AV_AscColina__'+str(time.time()))"
   ]
  },
  {
   "cell_type": "code",
   "execution_count": null,
   "metadata": {
    "ExecuteTime": {
     "end_time": "2019-03-06T03:32:45.168195Z",
     "start_time": "2019-03-06T03:32:45.158188Z"
    }
   },
   "outputs": [],
   "source": []
  }
 ],
 "metadata": {
  "kernelspec": {
   "display_name": "Python 3",
   "language": "python",
   "name": "python3"
  },
  "language_info": {
   "codemirror_mode": {
    "name": "ipython",
    "version": 3
   },
   "file_extension": ".py",
   "mimetype": "text/x-python",
   "name": "python",
   "nbconvert_exporter": "python",
   "pygments_lexer": "ipython3",
   "version": "3.6.7"
  }
 },
 "nbformat": 4,
 "nbformat_minor": 2
}
