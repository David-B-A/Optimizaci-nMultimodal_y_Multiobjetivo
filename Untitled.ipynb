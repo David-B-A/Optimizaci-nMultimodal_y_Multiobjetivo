{
 "cells": [
  {
   "cell_type": "code",
   "execution_count": 4,
   "metadata": {
    "ExecuteTime": {
     "end_time": "2018-11-19T10:24:44.445614Z",
     "start_time": "2018-11-19T10:24:41.449729Z"
    }
   },
   "outputs": [],
   "source": [
    "import math\n",
    "import matplotlib.pyplot as plt"
   ]
  },
  {
   "cell_type": "code",
   "execution_count": 2,
   "metadata": {
    "ExecuteTime": {
     "end_time": "2018-11-19T10:24:29.386702Z",
     "start_time": "2018-11-19T10:24:29.356351Z"
    }
   },
   "outputs": [],
   "source": [
    "\n",
    "class f1:\n",
    "    def f(self, x):\n",
    "        return x[0]**2-2*x[0]*x[1]-3*x[1]**2\n",
    "    def x1(self, x2):\n",
    "        return \n",
    "class f2:\n",
    "    def f(self, x):\n",
    "        return -2*x[0]**2+3*x[0]*x[1]+x[1]**2\n",
    "def frange(start, stop, step):\n",
    "    i = start\n",
    "    while i < stop:\n",
    "        yield i\n",
    "        i += step"
   ]
  },
  {
   "cell_type": "code",
   "execution_count": 21,
   "metadata": {
    "ExecuteTime": {
     "end_time": "2018-11-19T13:31:15.851636Z",
     "start_time": "2018-11-19T13:31:15.405373Z"
    }
   },
   "outputs": [
    {
     "data": {
      "text/plain": [
       "[<matplotlib.lines.Line2D at 0x7fecc4351080>]"
      ]
     },
     "execution_count": 21,
     "metadata": {},
     "output_type": "execute_result"
    },
    {
     "data": {
      "image/png": "[encoded data removed]",
      "text/plain": [
       "<Figure size 432x288 with 1 Axes>"
      ]
     },
     "metadata": {},
     "output_type": "display_data"
    }
   ],
   "source": [
    "x1 = []\n",
    "x2 = []\n",
    "for i in frange(-1,1,0.1):\n",
    "    x1.append(i)\n",
    "    x2.append(i)\n",
    "f1 = []\n",
    "f2 = []\n",
    "for i in range(0,len(x1)):\n",
    "    for j in range(0,len(x2)):\n",
    "        f1.append(x1[i]**2-2*x1[i]*x2[j]-3*x2[j]**2)\n",
    "        f2.append(-2*x1[i]**2+3*x1[i]*x2[j]+x2[j]**2)\n",
    "plt.plot(f1,f2,'o')"
   ]
  },
  {
   "cell_type": "code",
   "execution_count": null,
   "metadata": {},
   "outputs": [],
   "source": []
  }
 ],
 "metadata": {
  "kernelspec": {
   "display_name": "Python 3",
   "language": "python",
   "name": "python3"
  },
  "language_info": {
   "codemirror_mode": {
    "name": "ipython",
    "version": 3
   },
   "file_extension": ".py",
   "mimetype": "text/x-python",
   "name": "python",
   "nbconvert_exporter": "python",
   "pygments_lexer": "ipython3",
   "version": "3.5.2"
  }
 },
 "nbformat": 4,
 "nbformat_minor": 2
}
