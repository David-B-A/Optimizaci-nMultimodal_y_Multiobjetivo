{
 "cells": [
  {
   "cell_type": "code",
   "execution_count": 2,
   "metadata": {
    "ExecuteTime": {
     "end_time": "2019-03-01T04:12:51.576907Z",
     "start_time": "2019-03-01T04:12:48.997515Z"
    }
   },
   "outputs": [
    {
     "data": {
      "text/plain": [
       "'https://plot.ly/~dabelloa/32/'"
      ]
     },
     "execution_count": 2,
     "metadata": {},
     "output_type": "execute_result"
    }
   ],
   "source": [
    "import plotly.plotly as py\n",
    "from plotly.grid_objs import Grid, Column\n",
    "\n",
    "py.sign_in('dabelloa', 'mOxK8BVt2FbvZfiGmK6V')\n",
    "import time\n",
    "\n",
    "column_1 = Column([0.5], 'x')\n",
    "column_2 = Column([0.5], 'y')\n",
    "column_3 = Column([1.5], 'x2')\n",
    "column_4 = Column([1.5], 'y2')\n",
    "\n",
    "grid = Grid([column_1, column_2, column_3, column_4])\n",
    "py.grid_ops.upload(grid, 'ping_pong_grid'+str(time.time()), auto_open=False)"
   ]
  },
  {
   "cell_type": "code",
   "execution_count": 12,
   "metadata": {
    "ExecuteTime": {
     "end_time": "2019-03-01T04:17:23.753297Z",
     "start_time": "2019-03-01T04:17:22.706825Z"
    }
   },
   "outputs": [
    {
     "data": {
      "text/html": [
       "<iframe id=\"igraph\" scrolling=\"no\" style=\"border:none;\" seamless=\"seamless\" src=\"https://plot.ly/~dabelloa/40.embed\" height=\"525px\" width=\"100%\"></iframe>"
      ],
      "text/plain": [
       "<plotly.tools.PlotlyDisplay object>"
      ]
     },
     "execution_count": 12,
     "metadata": {},
     "output_type": "execute_result"
    }
   ],
   "source": [
    "figure = {\n",
    "    'data': [\n",
    "        {\n",
    "            'xsrc': grid.get_column_reference('x'),\n",
    "            'ysrc': grid.get_column_reference('y'),\n",
    "            'mode': 'markers',\n",
    "        },\n",
    "        {\n",
    "            'xsrc': grid.get_column_reference('x'),\n",
    "            'ysrc': grid.get_column_reference('y2'),\n",
    "            'mode': 'markers',\n",
    "        }\n",
    "    ],\n",
    "    'layout': {'title': 'Ping Pong Animation',\n",
    "               'xaxis': {'range': [0, 2], 'autorange': False},\n",
    "               'yaxis': {'range': [0, 2], 'autorange': False},\n",
    "               'updatemenus': [{\n",
    "                   'buttons': [\n",
    "                       {'args': [None],\n",
    "                        'label': 'Play',\n",
    "                        'method': 'animate'}\n",
    "               ],\n",
    "               'pad': {'r': 10, 't': 87},\n",
    "               'showactive': False,\n",
    "               'type': 'buttons'\n",
    "                }]},\n",
    "    'frames': [\n",
    "        {\n",
    "            'data': [\n",
    "                {},{\n",
    "                    'xsrc': grid.get_column_reference('x2'),\n",
    "                    'ysrc': grid.get_column_reference('y2'),\n",
    "                    'mode': 'markers',\n",
    "                }\n",
    "            ]\n",
    "        },\n",
    "        {\n",
    "            'data': [\n",
    "                {},{\n",
    "                    'xsrc': grid.get_column_reference('x'),\n",
    "                    'ysrc': grid.get_column_reference('y'),\n",
    "                    'mode': 'markers',\n",
    "                }\n",
    "            ]\n",
    "        }\n",
    "    ]\n",
    "}\n",
    "py.icreate_animations(figure)"
   ]
  }
 ],
 "metadata": {
  "kernelspec": {
   "display_name": "Python 3",
   "language": "python",
   "name": "python3"
  },
  "language_info": {
   "codemirror_mode": {
    "name": "ipython",
    "version": 3
   },
   "file_extension": ".py",
   "mimetype": "text/x-python",
   "name": "python",
   "nbconvert_exporter": "python",
   "pygments_lexer": "ipython3",
   "version": "3.6.7"
  }
 },
 "nbformat": 4,
 "nbformat_minor": 2
}
