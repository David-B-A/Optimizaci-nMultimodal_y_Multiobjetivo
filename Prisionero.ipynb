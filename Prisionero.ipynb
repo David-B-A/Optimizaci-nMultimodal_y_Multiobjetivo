{
 "cells": [
  {
   "cell_type": "code",
   "execution_count": null,
   "metadata": {},
   "outputs": [],
   "source": [
    "import math\n",
    "import random"
   ]
  },
  {
   "cell_type": "code",
   "execution_count": null,
   "metadata": {},
   "outputs": [],
   "source": [
    "#se define la decisión del prisionero con dos componentes, una aleatoria, y otra que depende de la historia del juego\n",
    "class prisionero:\n",
    "    def respuesta(self, x, n):\n",
    "        lx = len(x)\n",
    "        r = random.\n",
    "        if(lx < n):\n",
    "            if(lx > 0):\n",
    "                pos = 0\n",
    "                neg = 0\n",
    "                for i in range(0,lx):\n",
    "                    if(x[i]):\n",
    "                        pos = pos + 1\n",
    "                    else:\n",
    "                        neg = neg + 1\n",
    "                if(pos > neg):\n",
    "                    return True\n",
    "                else:\n",
    "                    return False\n",
    "                \n",
    "        "
   ]
  }
 ],
 "metadata": {
  "kernelspec": {
   "display_name": "Python 3",
   "language": "python",
   "name": "python3"
  },
  "language_info": {
   "codemirror_mode": {
    "name": "ipython",
    "version": 3
   },
   "file_extension": ".py",
   "mimetype": "text/x-python",
   "name": "python",
   "nbconvert_exporter": "python",
   "pygments_lexer": "ipython3",
   "version": "3.6.7"
  }
 },
 "nbformat": 4,
 "nbformat_minor": 2
}
