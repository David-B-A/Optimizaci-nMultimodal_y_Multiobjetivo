{
 "cells": [
  {
   "cell_type": "code",
   "execution_count": 7,
   "metadata": {
    "ExecuteTime": {
     "end_time": "2019-03-01T00:52:30.372406Z",
     "start_time": "2019-03-01T00:52:30.283130Z"
    }
   },
   "outputs": [],
   "source": [
    "import numpy as np\n",
    "import random\n",
    "import math"
   ]
  },
  {
   "cell_type": "code",
   "execution_count": 43,
   "metadata": {
    "ExecuteTime": {
     "end_time": "2019-03-01T01:45:39.478723Z",
     "start_time": "2019-03-01T01:45:36.699681Z"
    }
   },
   "outputs": [],
   "source": [
    "import plotly.plotly as py\n",
    "from plotly.grid_objs import Grid, Column\n",
    "import time\n",
    "py.sign_in('dabelloa', 'mOxK8BVt2FbvZfiGmK6V')"
   ]
  },
  {
   "cell_type": "code",
   "execution_count": 61,
   "metadata": {
    "ExecuteTime": {
     "end_time": "2018-11-16T10:36:38.656037Z",
     "start_time": "2018-11-16T10:36:38.618068Z"
    }
   },
   "outputs": [],
   "source": [
    "class individuo:\n",
    "    x=[];\n",
    "    f=0;\n",
    "    sigma=0;\n",
    "class Individuo:\n",
    "    x=[];\n",
    "    f=0;\n",
    "    sigma=0;\n",
    "class fSeno:\n",
    "    '''suma del seno de todas las dimensiones'''\n",
    "    def fitness(self,x):\n",
    "        suma = 0\n",
    "        for i in range(0,len(x)):\n",
    "            suma += math.sin(x[i])\n",
    "        return suma\n",
    "class fSenoSharing:\n",
    "    bits=16\n",
    "    limsup=10*math.pi\n",
    "    liminf=0\n",
    "    def crecimiento(self, codGenetico):\n",
    "        dimensiones = int(len(codGenetico)/self.bits)\n",
    "        x=[]\n",
    "        for d in range(0,dimensiones):\n",
    "            xi = 0\n",
    "            for i in range(0,self.bits):\n",
    "                xi += (codGenetico[i+self.bits*d]*2**i)\n",
    "            x.append(xi*(self.limsup-self.liminf)/(2**16) + self.liminf)\n",
    "        return x\n",
    "    def f(self,individuo,p):\n",
    "        x = self.crecimiento(individuo.x)\n",
    "        suma = 0\n",
    "        for i in range(0,len(x)):\n",
    "            suma += math.sin(x[i])\n",
    "        vecinos = 1\n",
    "        for i in range(0,len(p)):\n",
    "            if(self.distancia(x,self.crecimiento(p[i].x)) <= individuo.sigma):\n",
    "                vecinos += 1\n",
    "        return suma/vecinos;\n",
    "    def distancia(self,x1,x2):\n",
    "        suma = 0\n",
    "        for i in range(0,len(x1)):\n",
    "            suma += (x1[i]-x2[i])**2\n",
    "        return math.sqrt(suma)\n",
    "    def distanciaBinarios(self,x1,x2):\n",
    "        suma = 0\n",
    "        for i in range(0,len(x1)):\n",
    "            suma += abs(x1[i]-x2[i])\n",
    "        return suma"
   ]
  },
  {
   "cell_type": "code",
   "execution_count": 36,
   "metadata": {
    "ExecuteTime": {
     "end_time": "2019-03-01T01:06:32.461472Z",
     "start_time": "2019-03-01T01:06:32.437800Z"
    }
   },
   "outputs": [],
   "source": [
    "class M1:\n",
    "    def fitness(self,x):\n",
    "        suma = 0\n",
    "        for i in range(0, len(x)):\n",
    "            suma += self.f(x[i])\n",
    "        return suma\n",
    "    def f(self,xint):\n",
    "        return math.pow(math.sin(5.0*math.pi*xint), 6.0 )\n",
    "class M2:\n",
    "    def fitness(self,x):\n",
    "        suma = 0\n",
    "        for i in range(0, len(x)):\n",
    "            suma += self.f(x[i])\n",
    "        return suma\n",
    "    def f(self,xint):\n",
    "        m1 = M1()\n",
    "        y = (xint-0.1)/0.8;\n",
    "        return math.exp(-2.0*0.69314718*y*y)*m1.f(xint)\n",
    "class M3:\n",
    "    def fitness(self,x):\n",
    "        suma = 0\n",
    "        for i in range(0, len(x)):\n",
    "            suma += self.f(x[i])\n",
    "        return suma\n",
    "    def f(self,xint):\n",
    "        m1 = M1()\n",
    "        xlocal = math.pow( xint, 0.75 ) - 0.05;\n",
    "        return m1.f(xlocal)\n",
    "class M4:\n",
    "    def fitness(self,x):\n",
    "        suma = 0\n",
    "        for i in range(0, len(x)):\n",
    "            suma += self.f(x[i])\n",
    "        return suma\n",
    "    def f(self,xint):\n",
    "        m3 = M3()\n",
    "        v = m3.f(xint);\n",
    "        y = (xint-0.08)/0.854;\n",
    "        return math.exp(-2.0*0.69314718*y*y)*v"
   ]
  },
  {
   "cell_type": "code",
   "execution_count": 35,
   "metadata": {
    "ExecuteTime": {
     "end_time": "2019-03-01T01:06:16.760094Z",
     "start_time": "2019-03-01T01:06:16.748553Z"
    }
   },
   "outputs": [
    {
     "data": {
      "text/plain": [
       "7.30537793987846e-10"
      ]
     },
     "execution_count": 35,
     "metadata": {},
     "output_type": "execute_result"
    }
   ],
   "source": []
  },
  {
   "cell_type": "code",
   "execution_count": 7,
   "metadata": {
    "ExecuteTime": {
     "end_time": "2018-11-16T09:59:36.365618Z",
     "start_time": "2018-11-16T09:59:36.336705Z"
    },
    "code_folding": []
   },
   "outputs": [],
   "source": [
    "class deterministic_crowding:\n",
    "    def procedimietoGeneral(self,p,f):\n",
    "        nuevaGeneracion =[]\n",
    "        for j in range (0,int(len(p)/2)):\n",
    "            padres =[]\n",
    "            padres.append(p[int(random.uniform(0,len(p)))])\n",
    "            padres.append(p[int(random.uniform(0,len(p)))])\n",
    "            hijos = self.cruce(padres, f)\n",
    "            seleccionados = self.reemplazo(padres, hijos)\n",
    "            for i in range(0, len(seleccionados)):\n",
    "                nuevaGeneracion.append(seleccionados[i])\n",
    "        return nuevaGeneracion\n",
    "    def cruce(self,padres, f):\n",
    "        hijos=[]\n",
    "        for h in range(0,2):\n",
    "            x=[]\n",
    "            for i in range(0,len(padres[0].x)):\n",
    "                alpha1=random.random()\n",
    "                alpha2=random.random()\n",
    "                alpha1=alpha1/(alpha1+alpha2)\n",
    "                alpha2=alpha2/(alpha1+alpha2)\n",
    "                hijo1= individuo()\n",
    "                x.append(alpha1*padres[0].x[i] + alpha2*padres[1].x[i])\n",
    "                hijo1.x = x\n",
    "                hijo1.fitness=f.fitness(hijo1.x);\n",
    "                hijos.append(hijo1);\n",
    "        return hijos\n",
    "    def reemplazo(self,padres, hijos):\n",
    "        s1 = self.distancia(padres[0],hijos[0]) + self.distancia(padres[1],hijos[1])\n",
    "        s2 = self.distancia(padres[0],hijos[1]) + self.distancia(padres[1],hijos[0])\n",
    "        seleccionados=[]\n",
    "        if s1 < s2:\n",
    "            if(padres[0].fitness > hijos[0].fitness):\n",
    "                seleccionados.append(padres[0])\n",
    "            else:\n",
    "                seleccionados.append(hijos[0])\n",
    "            if(padres[1].fitness > hijos[1].fitness):\n",
    "                seleccionados.append(padres[1])\n",
    "            else:\n",
    "                seleccionados.append(hijos[1])\n",
    "        else:\n",
    "            if(padres[0].fitness > hijos[1].fitness):\n",
    "                seleccionados.append(padres[0])\n",
    "            else:\n",
    "                seleccionados.append(hijos[1])\n",
    "            if(padres[1].fitness > hijos[0].fitness):\n",
    "                seleccionados.append(padres[1])\n",
    "            else:\n",
    "                seleccionados.append(hijos[0])\n",
    "        return seleccionados\n",
    "    def distancia(self,padre, hijo):\n",
    "        dist = 0\n",
    "        for i in range(0,len(padre.x)):\n",
    "            dist += padre.x[i]\n",
    "        return dist\n",
    "    "
   ]
  },
  {
   "cell_type": "code",
   "execution_count": 46,
   "metadata": {
    "ExecuteTime": {
     "end_time": "2018-11-16T10:28:01.027077Z",
     "start_time": "2018-11-16T10:28:00.959829Z"
    },
    "code_folding": [
     13,
     40,
     55,
     69,
     88,
     94
    ]
   },
   "outputs": [],
   "source": [
    "class AlgoritmoGenetico():\n",
    "    def iniciarPoblacion(self, n, bits, funcion, sigma):\n",
    "        poblacion = []\n",
    "        for i in range(0,n):\n",
    "            individuo = Individuo()\n",
    "            individuo.x = np.random.choice([0, 1], size=(bits)).tolist()\n",
    "            individuo.sigma = sigma\n",
    "            poblacion.append(individuo)\n",
    "        for i in range(0,len(poblacion)):\n",
    "            temp =0\n",
    "            temp =funcion.f(poblacion[i], poblacion)\n",
    "            poblacion[i].f = temp\n",
    "        return poblacion\n",
    "    def selectorRuleta(self, individuos):\n",
    "        boletas = []\n",
    "        conjunto = []\n",
    "        padres = []\n",
    "        sumaFitness = 0\n",
    "        for individuo in individuos:\n",
    "            sumaFitness += individuo.f\n",
    "        for individuo in individuos:\n",
    "            boletas.append(int(len(individuos)*10*individuo.f/sumaFitness)+1)\n",
    "        for i in range(0,len(individuos)):\n",
    "            for j in range(0,boletas[i]):\n",
    "                conjunto.append(i)\n",
    "        np.random.shuffle(conjunto)\n",
    "        for i in range(0,len(individuos)):\n",
    "            padres.append(individuos[conjunto[int(np.random.uniform(0,len(conjunto)))]])\n",
    "        return padres\n",
    "    def selectorTorneo(self, individuos):\n",
    "        padres = []\n",
    "        for i in range(0,len(individuos)):\n",
    "            a = np.arange(0,len(individuos)).tolist()\n",
    "            posCompetidores = np.random.choice(a, size=(4)).tolist()\n",
    "            posMejor = posCompetidores[0]\n",
    "            for i in posCompetidores:\n",
    "                if individuos[i].f > individuos[posMejor].f:\n",
    "                    posMejor = i\n",
    "            padres.append(individuos[posMejor])\n",
    "        return padres\n",
    "    def selectorUniversalEstocastico(self, individuos):\n",
    "        individuos = sorted(individuos, key=lambda individuo: individuo.f)\n",
    "        k = len(individuos)\n",
    "        sumaF = 0\n",
    "        for i in individuos:\n",
    "            sumaF += i.f\n",
    "        d = sumaF/k\n",
    "        pi = np.random.uniform(0,d)\n",
    "        padres = []\n",
    "        i = 0\n",
    "        for p in range(0,k):\n",
    "            while (i < k-1) and (individuos[i].f < pi + p*d):\n",
    "                i += 1\n",
    "            padres.append(individuos[i])\n",
    "        return padres\n",
    "    def selectorElitista(self, individuos):\n",
    "        individuos = sorted(individuos, key=lambda individuo: individuo.f, reverse = True)\n",
    "        elite = int(len(individuos)*0.1)\n",
    "        claseMedia = int(len(individuos)*0.8)\n",
    "        padresElite = []\n",
    "        padresClaseMedia = []\n",
    "        for i in range(0,int(len(individuos)/2)):\n",
    "            padresElite.append(individuos[int(np.random.uniform(0,elite))])\n",
    "            padresClaseMedia.append(individuos[int(np.random.uniform(elite,claseMedia))])\n",
    "        diferencia = len(individuos) - (len(padresElite) + len(padresClaseMedia))\n",
    "        while diferencia > 0:\n",
    "            padresElite.append(individuos[int(np.random.uniform(0,elite))])\n",
    "            diferencia -= 1\n",
    "        return padresElite + padresClaseMedia\n",
    "    def cruceYMutacionGaussianaPoblacion(self, padres, probCruce, mediaMutacion, sigmaMutacion, funcion,sigma):\n",
    "        a = np.arange(0,len(padres))\n",
    "        np.random.shuffle(a)\n",
    "        a = a.reshape(int(len(padres)/2),2).tolist()\n",
    "        hijos = []\n",
    "        for pospareja in a:\n",
    "            if random.random() < probCruce:\n",
    "                codGenPareja = [padres[pospareja[0]].x, padres[pospareja[1]].x]\n",
    "                temp = self.cruce(codGenPareja)\n",
    "                for i in range(0,len(temp)):\n",
    "                    hijo = Individuo()\n",
    "                    hijo.x = self.mutacionGaussiana(temp[i], mediaMutacion, sigmaMutacion)\n",
    "                    hijo.sigma = sigma\n",
    "                    hijos.append(hijo)\n",
    "                for i in range(0,len(hijos)):\n",
    "                    hijos[i].f = funcion.f(hijos[i], poblacion)\n",
    "            else:\n",
    "                hijos += [padres[pospareja[0]], padres[pospareja[1]]]\n",
    "        return hijos\n",
    "    def cruce(self, codGenPareja):\n",
    "        punto = int(np.random.uniform(1,len(codGenPareja[0])))\n",
    "        hijosPareja = []\n",
    "        hijosPareja.append(codGenPareja[0][:punto]+codGenPareja[1][punto:])\n",
    "        hijosPareja.append(codGenPareja[1][:punto]+codGenPareja[0][punto:])\n",
    "        return hijosPareja\n",
    "    def mutacionGaussiana(self, codGen, media, sigma):\n",
    "        cantidad = int(random.gauss(media,sigma))\n",
    "        cantidad = cantidad if (cantidad > 0) else 0\n",
    "        cantidad = cantidad if (cantidad < len(codGen)) else len(codGen)\n",
    "        a = np.arange(0,len(codGen)).tolist()\n",
    "        posMutaciones = np.random.choice(a, size=(cantidad), replace= False).tolist()\n",
    "        for i in posMutaciones:\n",
    "            codGen[i] = 0 if (codGen[i] == 1) else 1\n",
    "        return codGen\n",
    "    def reemplazoGeneracional(self, padres, hijos):\n",
    "        return hijos\n",
    "    def reemplazoElitista(self, padres, hijos):\n",
    "        poblacion = []\n",
    "        padrestemp = padres.copy()\n",
    "        hijostemp = hijos.copy()\n",
    "        for i in range(0,len(padrestemp)):\n",
    "            población.append(padrestemp[i])\n",
    "            población.append(hijostemp[i])\n",
    "        poblacion.sort(key=lambda x: x.f, reverse=True)"
   ]
  },
  {
   "cell_type": "code",
   "execution_count": 66,
   "metadata": {
    "ExecuteTime": {
     "end_time": "2018-11-16T10:37:51.767193Z",
     "start_time": "2018-11-16T10:37:51.026860Z"
    }
   },
   "outputs": [
    {
     "name": "stdout",
     "output_type": "stream",
     "text": [
      "[1, 0, 1, 1, 1, 1, 1, 0, 0, 0, 1, 0, 0, 0, 1, 0]\n",
      "[8.40477661062467]\n",
      "0.10651359107104452\n",
      "\n",
      "\n",
      "[1, 1, 1, 1, 1, 1, 1, 1, 0, 0, 1, 0, 0, 0, 1, 0]\n",
      "[8.467094580132525]\n",
      "0.10223259297468058\n",
      "\n",
      "\n",
      "[1, 1, 1, 1, 1, 1, 1, 0, 0, 0, 1, 0, 0, 0, 1, 0]\n",
      "[8.4057353486171]\n",
      "0.10645082091335227\n",
      "\n",
      "\n",
      "[1, 1, 1, 1, 1, 1, 1, 1, 0, 0, 1, 0, 0, 0, 1, 0]\n",
      "[8.467094580132525]\n",
      "0.10223259297468058\n",
      "\n",
      "\n",
      "[1, 1, 1, 1, 1, 1, 1, 0, 0, 0, 1, 0, 0, 0, 1, 0]\n",
      "[8.4057353486171]\n",
      "0.10645082091335227\n",
      "\n",
      "\n",
      "[1, 1, 1, 1, 1, 0, 1, 0, 0, 0, 1, 0, 0, 0, 1, 0]\n",
      "[8.390395540738243]\n",
      "0.10744336274069696\n",
      "\n",
      "\n",
      "[1, 1, 1, 1, 1, 1, 1, 1, 0, 0, 1, 1, 0, 0, 1, 0]\n",
      "[9.448842284379335]\n",
      "-0.024062001102309355\n",
      "\n",
      "\n",
      "[1, 1, 1, 1, 1, 1, 1, 0, 0, 0, 1, 0, 0, 0, 1, 0]\n",
      "[8.4057353486171]\n",
      "0.10645082091335227\n",
      "\n",
      "\n",
      "[1, 1, 1, 1, 1, 0, 1, 0, 0, 0, 1, 0, 0, 0, 1, 0]\n",
      "[8.390395540738243]\n",
      "0.10744336274069696\n",
      "\n",
      "\n",
      "[1, 0, 1, 1, 1, 1, 1, 1, 0, 0, 0, 1, 0, 0, 1, 0]\n",
      "[8.957009694263501]\n",
      "0.4508954163896673\n",
      "\n",
      "\n"
     ]
    }
   ],
   "source": [
    "n = 10\n",
    "bits = 16\n",
    "iteraciones = 100\n",
    "sigma = 0.4 #el radio para la funcion de fitness\n",
    "ag = AlgoritmoGenetico()\n",
    "funcion = fSenoSharing()\n",
    "poblacion = ag.iniciarPoblacion(n, bits, funcion,sigma)\n",
    "for i in range(0, iteraciones):\n",
    "    padres = ag.selectorTorneo(poblacion)\n",
    "    hijos = ag.cruceYMutacionGaussianaPoblacion(padres, 0.8, 1,1, funcion,sigma)\n",
    "    poblacion = ag.reemplazoGeneracional(padres, hijos)\n",
    "for individuo in poblacion:\n",
    "    print(individuo.x)\n",
    "    print(funcion.crecimiento(individuo.x))\n",
    "    print(individuo.f)\n",
    "    print(\"\\n\")"
   ]
  },
  {
   "cell_type": "code",
   "execution_count": 4,
   "metadata": {
    "ExecuteTime": {
     "end_time": "2018-11-16T09:35:02.498461Z",
     "start_time": "2018-11-16T09:35:02.451315Z"
    }
   },
   "outputs": [
    {
     "name": "stdout",
     "output_type": "stream",
     "text": [
      "[20.536967417286398]\n",
      "0.9932081533369308\n",
      "\n",
      "\n",
      "[22.706243198292448]\n",
      "-0.6556888630735036\n",
      "\n",
      "\n",
      "[8.130162348202367]\n",
      "0.9621039075190194\n",
      "\n",
      "\n",
      "[14.183736192401954]\n",
      "0.9989158483732191\n",
      "\n",
      "\n",
      "[24.287448612296924]\n",
      "-0.748165298822618\n",
      "\n",
      "\n",
      "[20.657503909212334]\n",
      "0.9720110913794308\n",
      "\n",
      "\n",
      "[8.130162348202367]\n",
      "0.9621039075190194\n",
      "\n",
      "\n",
      "[14.183736192401954]\n",
      "0.9989158483732191\n",
      "\n",
      "\n",
      "[8.130162348202367]\n",
      "0.9621039075190194\n",
      "\n",
      "\n",
      "[7.912489808052147]\n",
      "0.9982888849916001\n",
      "\n",
      "\n"
     ]
    }
   ],
   "source": [
    "p =[]\n",
    "n=10\n",
    "d=1\n",
    "f= fSeno()\n",
    "iteraciones=10\n",
    "dcrowd = deterministic_crowding()\n",
    "a=0\n",
    "b=2*math.pi*4\n",
    "for i in range(0,n):\n",
    "    temp = individuo()\n",
    "    x = []\n",
    "    for j in range(0,d):\n",
    "        x.append(random.uniform(a,b))\n",
    "    temp.x = x\n",
    "    temp.f = f.fitness(temp.x)\n",
    "    p.append(temp)\n",
    "for i in range(0,iteraciones):\n",
    "    ng = dcrowd.procedimietoGeneral(p,f)\n",
    "for i in range(0,len(ng)):\n",
    "    print(ng[i].x)\n",
    "    print(ng[i].fitness)\n",
    "    print(\"\\n\")\n",
    "    \n",
    "xfunc = []\n",
    "yfunc = []\n"
   ]
  },
  {
   "cell_type": "code",
   "execution_count": 64,
   "metadata": {
    "ExecuteTime": {
     "end_time": "2019-03-01T02:22:00.074649Z",
     "start_time": "2019-03-01T02:21:58.504692Z"
    }
   },
   "outputs": [
    {
     "data": {
      "text/plain": [
       "'https://plot.ly/~dabelloa/12/'"
      ]
     },
     "execution_count": 64,
     "metadata": {},
     "output_type": "execute_result"
    }
   ],
   "source": [
    "column_1 = Column([0.5,1.2], 'x')\n",
    "column_2 = Column([0.5,1.6], 'y')\n",
    "column_3 = Column([1.5,1], 'x2')\n",
    "column_4 = Column([1.5,2], 'y2')\n",
    "column_5 = Column([0.7,1], 'a')\n",
    "column_6 = Column([0.7,1], 'b')\n",
    "\n",
    "grid = Grid([column_1, column_2, column_3, column_4, column_5, column_6])\n",
    "py.grid_ops.upload(grid, 'ping_pong_grid'+str(time.time()), auto_open=False)"
   ]
  },
  {
   "cell_type": "code",
   "execution_count": 77,
   "metadata": {
    "ExecuteTime": {
     "end_time": "2019-03-01T02:50:39.815466Z",
     "start_time": "2019-03-01T02:50:37.926787Z"
    },
    "code_folding": [
     27
    ]
   },
   "outputs": [
    {
     "name": "stderr",
     "output_type": "stream",
     "text": [
      "/home/dabelloa/.local/lib/python3.6/site-packages/IPython/core/display.py:689: UserWarning:\n",
      "\n",
      "Consider using IPython.display.IFrame instead\n",
      "\n"
     ]
    },
    {
     "data": {
      "text/html": [
       "<iframe id=\"igraph\" scrolling=\"no\" style=\"border:none;\" seamless=\"seamless\" src=\"https://plot.ly/~dabelloa/22.embed\" height=\"525px\" width=\"100%\"></iframe>"
      ],
      "text/plain": [
       "<plotly.tools.PlotlyDisplay object>"
      ]
     },
     "execution_count": 77,
     "metadata": {},
     "output_type": "execute_result"
    }
   ],
   "source": [
    "sliders_dict = {\n",
    "    'active': 0,\n",
    "    'yanchor': 'top',\n",
    "    'xanchor': 'left',\n",
    "    'currentvalue': {\n",
    "        'font': {'size': 20},\n",
    "        'prefix': 'Year:',\n",
    "        'visible': True,\n",
    "        'xanchor': 'right'\n",
    "    },\n",
    "    'transition': {'duration': 300, 'easing': 'cubic-in-out'},\n",
    "    'pad': {'b': 10, 't': 50},\n",
    "    'len': 0.9,\n",
    "    'x': 0.1,\n",
    "    'y': 0,\n",
    "    'steps': []\n",
    "}\n",
    "\n",
    "updatemenus_dict = [\n",
    "    {\n",
    "        'buttons': [\n",
    "            {\n",
    "                'args': [None, {'frame': {'duration': 500, 'redraw': False},\n",
    "                         'fromcurrent': True, 'transition': {'duration': 300, 'easing': 'quadratic-in-out'}}],\n",
    "                'label': 'Play',\n",
    "                'method': 'animate'\n",
    "            },\n",
    "            {\n",
    "                'args': [[None], {'frame': {'duration': 0, 'redraw': False}, 'mode': 'immediate',\n",
    "                'transition': {'duration': 0}}],\n",
    "                'label': 'Pause',\n",
    "                'method': 'animate'\n",
    "            }\n",
    "        ],\n",
    "        'direction': 'left',\n",
    "        'pad': {'r': 10, 't': 87},\n",
    "        'showactive': False,\n",
    "        'type': 'buttons',\n",
    "        'x': 0.1,\n",
    "        'xanchor': 'right',\n",
    "        'y': 0,\n",
    "        'yanchor': 'top'\n",
    "    }\n",
    "]\n",
    "\n",
    "figure = {\n",
    "    'data': [],\n",
    "    'layout': {'title': 'Deterministic crowding',\n",
    "               'xaxis': {'range': [0, 2], 'autorange': True},\n",
    "               'yaxis': {'range': [0, 2], 'autorange': True},\n",
    "              },\n",
    "    'frames': []\n",
    "}\n",
    "frame = {\n",
    "    'data': [\n",
    "        {\n",
    "            'xsrc': grid.get_column_reference('x'),\n",
    "            'ysrc': grid.get_column_reference('y'),\n",
    "            'mode': 'markers',\n",
    "        }\n",
    "    ]\n",
    "}\n",
    "figure['layout']['updatemenus'] = updatemenus_dict\n",
    "figure['frames'].append(frame)\n",
    "\n",
    "py.icreate_animations(figure, 'ping_pong'+str(time.time()))"
   ]
  }
 ],
 "metadata": {
  "kernelspec": {
   "display_name": "Python 3",
   "language": "python",
   "name": "python3"
  },
  "language_info": {
   "codemirror_mode": {
    "name": "ipython",
    "version": 3
   },
   "file_extension": ".py",
   "mimetype": "text/x-python",
   "name": "python",
   "nbconvert_exporter": "python",
   "pygments_lexer": "ipython3",
   "version": "3.6.7"
  }
 },
 "nbformat": 4,
 "nbformat_minor": 2
}
