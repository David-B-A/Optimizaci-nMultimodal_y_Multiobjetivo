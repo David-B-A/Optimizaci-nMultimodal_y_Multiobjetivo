{
 "cells": [
  {
   "cell_type": "code",
   "execution_count": 106,
   "metadata": {
    "ExecuteTime": {
     "end_time": "2019-03-06T04:44:43.295700Z",
     "start_time": "2019-03-06T04:44:43.288636Z"
    }
   },
   "outputs": [],
   "source": [
    "import numpy as np\n",
    "import random\n",
    "import math\n",
    "import csv"
   ]
  },
  {
   "cell_type": "code",
   "execution_count": 86,
   "metadata": {
    "ExecuteTime": {
     "end_time": "2019-03-06T03:33:40.037331Z",
     "start_time": "2019-03-06T03:33:40.018544Z"
    }
   },
   "outputs": [
    {
     "data": {
      "text/plain": [
       "'\\nn = 10\\nmcostos = np.empty((n,n))\\nfor i in range(0,n):\\n    mcostos[i,i] = 0\\n    for j in range(i+1,n):\\n        mcostos[i,j] = int(random.random()*100)\\n        mcostos[j,i] = mcostos[i,j]\\nf = open(\"/home/dabelloa/Documents/Evolutiva/AgenteViajeroMcostos.csv\",\\'w\\')\\nwith f:\\n    writer = csv.writer(f)\\n    writer.writerows(mcostos)\\n'"
      ]
     },
     "execution_count": 86,
     "metadata": {},
     "output_type": "execute_result"
    }
   ],
   "source": [
    "## Imprimir Matriz Costos\n",
    "'''\n",
    "n = 10\n",
    "mcostos = np.empty((n,n))\n",
    "for i in range(0,n):\n",
    "    mcostos[i,i] = 0\n",
    "    for j in range(i+1,n):\n",
    "        mcostos[i,j] = int(random.random()*100)\n",
    "        mcostos[j,i] = mcostos[i,j]\n",
    "f = open(\"/home/dabelloa/Documents/Evolutiva/AgenteViajeroMcostos.csv\",'w')\n",
    "with f:\n",
    "    writer = csv.writer(f)\n",
    "    writer.writerows(mcostos)\n",
    "'''"
   ]
  },
  {
   "cell_type": "code",
   "execution_count": 87,
   "metadata": {
    "ExecuteTime": {
     "end_time": "2019-03-06T03:33:41.505493Z",
     "start_time": "2019-03-06T03:33:41.497376Z"
    }
   },
   "outputs": [],
   "source": [
    "## Imprimir posiciones de nodos\n",
    "'''n = 10\n",
    "mcostos = np.empty((n,2))\n",
    "for i in range(0,n):\n",
    "    for j in range(0,2):\n",
    "        mcostos[i,j] = int(random.random()*100)\n",
    "f = open(\"/home/dabelloa/Documents/Evolutiva/AgenteViajeroNodos.csv\",'w')\n",
    "with f:\n",
    "    writer = csv.writer(f)\n",
    "    writer.writerows(mcostos)\n",
    "'''"
   ]
  },
  {
   "cell_type": "code",
   "execution_count": 107,
   "metadata": {
    "ExecuteTime": {
     "end_time": "2019-03-06T04:44:56.230870Z",
     "start_time": "2019-03-06T04:44:56.151375Z"
    },
    "code_folding": [
     0,
     4,
     9
    ]
   },
   "outputs": [],
   "source": [
    "class powerLaw:\n",
    "    def generate(self, alpha, mult):\n",
    "        nd = random.random();\n",
    "        return mult*math.pow((nd),(1/(1-alpha)));\n",
    "class individuo:\n",
    "    x=[]\n",
    "    f=0\n",
    "    pc = 0\n",
    "    pm = 0\n",
    "class agViajero:\n",
    "    def __init__(self,mcostos):\n",
    "        self.mcostos = mcostos\n",
    "    def fitness(self,x):\n",
    "        costo = 0\n",
    "        for i in range(1,len(x)):\n",
    "            costo = costo + self.mcostos[x[i-1],x[i]]\n",
    "        costo = costo + self.mcostos[x[0],x[len(x)-1]]\n",
    "        return costo\n",
    "class agViajeroEuclidiano:\n",
    "    def __init__(self,nodos):\n",
    "        self.nodos = nodos\n",
    "    def fitness(self,x):\n",
    "        costo = 0\n",
    "        for i in range(1,len(x)):\n",
    "            x1 = nodos[x[i-1],0]\n",
    "            x2 = nodos[x[i-1],1]\n",
    "            y1 = nodos[x[i],0]\n",
    "            y2 = nodos[x[i],1]\n",
    "            costo = costo + math.sqrt((x2-x1)**2+(y2-y1)**2)\n",
    "        return costo\n",
    "class ascColina:\n",
    "    def nuevaGen(self, padre, mult, alpha, func):\n",
    "        hijo = individuo()\n",
    "        hijo.x = padre.x\n",
    "        pl = powerLaw()\n",
    "        aCambiar = int(pl.generate(3,2))\n",
    "        if aCambiar > len(x)/2 - 1:\n",
    "            aCambiar = len(x)/2 - 1\n",
    "        if aCambiar < 1:\n",
    "            aCambiar = 1\n",
    "        posiciones = []\n",
    "        for i in range(0,int(aCambiar*2)):\n",
    "            propuesta = int(random.uniform(0,len(x)))\n",
    "            aceptable = True\n",
    "            for j in range(0,len(posiciones)):\n",
    "                if propuesta == posiciones[j] or propuesta >= len(x):\n",
    "                    aceptable = False\n",
    "            if aceptable:\n",
    "                posiciones.append(propuesta)\n",
    "            else:\n",
    "                i = i-1\n",
    "        for i in range(0, int(len(posiciones)/2)):\n",
    "            j = int(len(posiciones)/2) + i\n",
    "            temp = hijo.x[posiciones[i]]\n",
    "            hijo.x[posiciones[i]] = hijo.x[posiciones[j]]\n",
    "            hijo.x[posiciones[j]] = temp\n",
    "        hijo.f = func.fitness(hijo.x)\n",
    "        if padre.f < hijo.f:\n",
    "            return padre\n",
    "        else:\n",
    "            return hijo\n",
    "class haea:\n",
    "    def iniciarPoblacion(self, n, d, alpha, mult, func):\n",
    "        p = []\n",
    "        pl = powerLaw()\n",
    "        for i in range(0,n):\n",
    "            temp = individuo()\n",
    "            x = range(0,d)\n",
    "            x = np.array(x)\n",
    "            random.shuffle(x)\n",
    "            temp.x = x\n",
    "#             temp.pc = random.random()\n",
    "#             temp.pm = 1-temp.pc\n",
    "            temp.pc = 0\n",
    "            temp.pm = 1\n",
    "            temp.f = func.fitness(temp.x)\n",
    "            p.append(temp)\n",
    "        return p\n",
    "    def nuevaGen(self, n, p, alpha,mult,func):\n",
    "        npob = []\n",
    "        for i in range(0,n):\n",
    "            if random.random() <= p[i].pc:\n",
    "                pareja = self.selectorTorneo(p)\n",
    "                hijo = self.cruce(p[i], pareja, func)\n",
    "                npob.append(hijo)\n",
    "            else:\n",
    "                hijo = self.mutacion(p[i], alpha, mult,func)\n",
    "                npob.append(hijo)\n",
    "        return npob\n",
    "    def selectorTorneo(self, p):\n",
    "        contrinc = []\n",
    "        for i in range(0,4):\n",
    "            pos = int(random.random()*len(p))\n",
    "            contrinc.append(p[pos])\n",
    "        contrinc.sort(key=lambda contrinc: contrinc.f)\n",
    "        return contrinc[0];\n",
    "    def mutacion(self, padre, alpha, mult, func):\n",
    "        pl = powerLaw()\n",
    "        hijo = individuo()\n",
    "        aCambiar = int(pl.generate(3,2))\n",
    "        if aCambiar > len(padre.x)/2 - 1:\n",
    "            aCambiar = len(padre.x)/2 - 1\n",
    "        if aCambiar < 1:\n",
    "            aCambiar = 1\n",
    "        posiciones = []\n",
    "        for i in range(0,int(aCambiar*2)):\n",
    "            propuesta = int(random.uniform(0,len(padre.x)))\n",
    "            aceptable = True\n",
    "            for j in range(0,len(posiciones)):\n",
    "                if propuesta == posiciones[j] or propuesta >= len(padre.x):\n",
    "                    aceptable = False\n",
    "            if aceptable:\n",
    "                posiciones.append(propuesta)\n",
    "            else:\n",
    "                i = i-1\n",
    "        x = padre.x.copy()\n",
    "        for i in range(0, int(len(posiciones)/2)):\n",
    "            j = int(len(posiciones)/2) + i\n",
    "            temp = x[posiciones[i]]\n",
    "            x[posiciones[i]] = x[posiciones[j]]\n",
    "            x[posiciones[j]] = temp\n",
    "        hijo.x = x.copy()\n",
    "        hijo.f = func.fitness(hijo.x)\n",
    "        pc = individuo.pc\n",
    "        pm = individuo.pm\n",
    "        if padre.f < hijo.f:\n",
    "            pc = pc + random.random()\n",
    "            pc = pc/(pc+pm)\n",
    "            pm = pm/(pc+pm)\n",
    "            padre.pc = pc\n",
    "            padre.pm = pm\n",
    "            return padre\n",
    "        else:\n",
    "            pm = pm + random.random()\n",
    "            pc = pc/(pc+pm)\n",
    "            pm = pm/(pc+pm)\n",
    "            hijo.pc = pc\n",
    "            hijo.pm = pm\n",
    "            return hijo\n",
    "    def cruce(self, individuo1,individuo2, func):\n",
    "        pos = int(random.uniform(0,len(individuo1.x)))\n",
    "        hijo = individuo()\n",
    "        x1 = []\n",
    "        x2 = []\n",
    "        for i in range(0,pos):\n",
    "            x1.append(individuo1.x[i])\n",
    "            x2.append(individuo2.x[i])\n",
    "        for i in range(pos,len(individuo1.x)):\n",
    "            k= i\n",
    "            while True:\n",
    "                x1t = individuo2.x[k]\n",
    "                diferente = True\n",
    "                for j in range(0,len(x1)):\n",
    "                    if x1t == x1[j]:\n",
    "                        diferente = False\n",
    "                if diferente:\n",
    "                    x1.append(x1t)\n",
    "                    break\n",
    "                else:\n",
    "                    if k < len(individuo2.x)-1:\n",
    "                        k = k+1\n",
    "                    else:\n",
    "                        k = 0\n",
    "            k= i\n",
    "            while True:\n",
    "                x2t = individuo1.x[k]\n",
    "                diferente = True\n",
    "                for j in range(0,len(x2)):\n",
    "                    if x2t == x2[j]:\n",
    "                        diferente = False\n",
    "                if diferente:\n",
    "                    x2.append(x2t)\n",
    "                    break\n",
    "                else:\n",
    "                    if k < len(individuo1.x)-1:\n",
    "                        k = k+1\n",
    "                    else:\n",
    "                        k = 0\n",
    "        f1 = func.fitness(x1)\n",
    "        f2 = func.fitness(x2)\n",
    "        if f1 < f2:\n",
    "            hijo.x = x1.copy()\n",
    "            hijo.f = f1\n",
    "        else:\n",
    "            hijo.x = x2.copy()\n",
    "            hijo.f = f2\n",
    "        padre = individuo()\n",
    "        padre.x = individuo1.x\n",
    "        padre.f = individuo1.f\n",
    "        pc = individuo1.pc\n",
    "        pm = individuo1.pm\n",
    "        if padre.f < hijo.f:\n",
    "            pm = pm + random.random()\n",
    "            pc = pc/(pc+pm)\n",
    "            pm = pm/(pc+pm)\n",
    "            padre.pc = pc\n",
    "            padre.pm = pm\n",
    "            return padre\n",
    "        else:\n",
    "            pc = pc + random.random()\n",
    "            pc = pc/(pc+pm)\n",
    "            pm = pm/(pc+pm)\n",
    "            hijo.pc = pc\n",
    "            hijo.pm = pm\n",
    "            return hijo"
   ]
  },
  {
   "cell_type": "code",
   "execution_count": 114,
   "metadata": {
    "ExecuteTime": {
     "end_time": "2019-03-06T04:47:30.758413Z",
     "start_time": "2019-03-06T04:47:30.187591Z"
    }
   },
   "outputs": [],
   "source": [
    "##Ajente viajero euclidiano\n",
    "rows = []\n",
    "with open('/home/dabelloa/Documents/Evolutiva/AgenteViajeroNodos.csv') as File:\n",
    "    reader = csv.reader(File, delimiter=',', quotechar=',',\n",
    "                        quoting=csv.QUOTE_MINIMAL)\n",
    "    for row in reader:\n",
    "        rows.append(row)\n",
    "    nodos = np.array(rows)\n",
    "    nodos = nodos.astype(np.float)\n",
    "n = 100\n",
    "d = 10\n",
    "iteraciones = 100\n",
    "func = agViajeroEuclidiano(nodos)\n",
    "alg = haea()\n",
    "p = alg.iniciarPoblacion(n,d,2,4,func)\n",
    "posmin = 0\n",
    "minimo = p[posmin].f\n",
    "columnasx = []\n",
    "columnasy = []\n",
    "valoresfitness = []\n",
    "for i in range (0,len(p)):\n",
    "    fit += p[i].f\n",
    "    if p[posmin].f< minimo:\n",
    "        posmin = i\n",
    "        minimo = p[posmin].f\n",
    "columnasx.append(nodos[p[posmin].x,0])\n",
    "columnasy.append(nodos[p[posmin].x,1])\n",
    "valoresfitness.append(p[posmin].f)\n",
    "\n",
    "for i in range(0, iteraciones):\n",
    "    temp = 0\n",
    "    temp = alg.nuevaGen(n, p, 2, 4, func)\n",
    "    p = temp\n",
    "    fit = 0\n",
    "    posmin = 0\n",
    "    minimo = p[posmin].f\n",
    "    for i in range (0,len(p)):\n",
    "        fit += p[i].f\n",
    "        if p[posmin].f< minimo:\n",
    "            posmin = i\n",
    "            minimo = p[posmin].f\n",
    "    columnasx.append(nodos[p[posmin].x,0])\n",
    "    columnasy.append(nodos[p[posmin].x,1])\n",
    "    valoresfitness.append(p[posmin].f)\n",
    "#     print(fit/len(p))"
   ]
  },
  {
   "cell_type": "code",
   "execution_count": 110,
   "metadata": {
    "ExecuteTime": {
     "end_time": "2019-03-06T04:45:24.008643Z",
     "start_time": "2019-03-06T04:45:20.545365Z"
    }
   },
   "outputs": [],
   "source": [
    "rows = []\n",
    "with open('/home/dabelloa/Documents/Evolutiva/AgenteViajeroMcostos.csv') as File:\n",
    "    reader = csv.reader(File, delimiter=',', quotechar=',',\n",
    "                        quoting=csv.QUOTE_MINIMAL)\n",
    "    for row in reader:\n",
    "        rows.append(row)\n",
    "    mcostos = np.array(rows)\n",
    "    mcostos = mcostos.astype(np.float)\n",
    "n = 1000\n",
    "d = 10\n",
    "iteraciones = 100\n",
    "func = agViajero(mcostos)\n",
    "alg = haea()\n",
    "p = alg.iniciarPoblacion(n,d,2,4,func)\n",
    "for i in range(0, iteraciones):\n",
    "    temp = 0\n",
    "    temp = alg.nuevaGen(n, p, 2, 4, func)\n",
    "    p = temp\n",
    "    fit = 0\n",
    "    for i in range (0,len(p)):\n",
    "        fit += p[i].f\n",
    "#     print(fit/len(p))\n",
    "    "
   ]
  },
  {
   "cell_type": "code",
   "execution_count": 107,
   "metadata": {
    "ExecuteTime": {
     "end_time": "2019-03-04T04:46:00.840382Z",
     "start_time": "2019-03-04T04:46:00.825292Z"
    }
   },
   "outputs": [
    {
     "data": {
      "text/plain": [
       "array([8, 4, 6, 7, 0, 9, 3, 1, 2, 5])"
      ]
     },
     "execution_count": 107,
     "metadata": {},
     "output_type": "execute_result"
    }
   ],
   "source": []
  },
  {
   "cell_type": "code",
   "execution_count": 91,
   "metadata": {
    "ExecuteTime": {
     "end_time": "2019-03-06T03:34:03.431899Z",
     "start_time": "2019-03-06T03:34:03.410514Z"
    },
    "code_folding": [
     1
    ],
    "scrolled": true
   },
   "outputs": [],
   "source": [
    "#Asc Colina\n",
    "rows = []\n",
    "with open('/home/dabelloa/Documents/Evolutiva/AgenteViajeroMcostos.csv') as File:\n",
    "    reader = csv.reader(File, delimiter=',', quotechar=',',\n",
    "                        quoting=csv.QUOTE_MINIMAL)\n",
    "    for row in reader:\n",
    "        rows.append(row)\n",
    "    mcostos = np.matrix(rows)\n",
    "    mcostos = mcostos.astype(np.float)\n",
    "n = 1\n",
    "d = 10\n",
    "iteraciones = 100\n",
    "x = np.arange(0,d,1)\n",
    "np.random.shuffle(x)\n",
    "ind = individuo()\n",
    "ind.x = x\n",
    "func = agViajero(mcostos)\n",
    "ind.f = func.fitness(x)\n",
    "alg = ascColina()\n",
    "for i in range(0, iteraciones):\n",
    "    temp = alg.nuevaGen(ind, 4, 2, func)\n",
    "    ind = temp\n",
    "    #print(temp.f)"
   ]
  },
  {
   "cell_type": "code",
   "execution_count": 111,
   "metadata": {
    "ExecuteTime": {
     "end_time": "2019-03-06T04:45:54.152949Z",
     "start_time": "2019-03-06T04:45:53.171960Z"
    }
   },
   "outputs": [],
   "source": [
    "import plotly.plotly as py\n",
    "from plotly.grid_objs import Grid, Column\n",
    "import time\n",
    "py.sign_in('research123', 'nhcP58x2hVKS1GIuA7NF')"
   ]
  },
  {
   "cell_type": "code",
   "execution_count": 112,
   "metadata": {
    "ExecuteTime": {
     "end_time": "2019-03-06T04:45:57.692281Z",
     "start_time": "2019-03-06T04:45:55.671372Z"
    }
   },
   "outputs": [
    {
     "data": {
      "text/plain": [
       "'https://plot.ly/~research123/80/'"
      ]
     },
     "execution_count": 112,
     "metadata": {},
     "output_type": "execute_result"
    }
   ],
   "source": [
    "columns = []\n",
    "for i in range(0, len(columnasx)):\n",
    "    temp = Column(columnasx[i], 'x'+str(i))\n",
    "    columns.append(temp)\n",
    "for i in range(0, len(columnasy)):\n",
    "    temp = Column(columnasy[i], 'y'+str(i))\n",
    "    columns.append(temp)\n",
    "temp = Column(nodos[:,0], 'xfunc')\n",
    "columns.append(temp)\n",
    "temp = Column(nodos[:,1], 'yfunc')\n",
    "columns.append(temp)\n",
    "\n",
    "grid = Grid(columns)\n",
    "py.grid_ops.upload(grid, 'AVdata_HAEA__'+str(time.time()), auto_open=False)"
   ]
  },
  {
   "cell_type": "code",
   "execution_count": 113,
   "metadata": {
    "ExecuteTime": {
     "end_time": "2019-03-06T04:46:02.466900Z",
     "start_time": "2019-03-06T04:46:02.420295Z"
    }
   },
   "outputs": [
    {
     "ename": "NameError",
     "evalue": "name 'valoresfitness' is not defined",
     "output_type": "error",
     "traceback": [
      "\u001b[0;31m---------------------------------------------------------------------------\u001b[0m",
      "\u001b[0;31mNameError\u001b[0m                                 Traceback (most recent call last)",
      "\u001b[0;32m<ipython-input-113-bc698eb13f60>\u001b[0m in \u001b[0;36m<module>\u001b[0;34m\u001b[0m\n\u001b[1;32m     90\u001b[0m        'transition': {'duration': 300}}\n\u001b[1;32m     91\u001b[0m      ],\n\u001b[0;32m---> 92\u001b[0;31m      \u001b[0;34m'label'\u001b[0m\u001b[0;34m:\u001b[0m \u001b[0mstr\u001b[0m\u001b[0;34m(\u001b[0m\u001b[0mi\u001b[0m\u001b[0;34m)\u001b[0m \u001b[0;34m+\u001b[0m \u001b[0;34m\", fitness: \"\u001b[0m \u001b[0;34m+\u001b[0m \u001b[0mstr\u001b[0m\u001b[0;34m(\u001b[0m\u001b[0mvaloresfitness\u001b[0m\u001b[0;34m[\u001b[0m\u001b[0mi\u001b[0m\u001b[0;34m]\u001b[0m\u001b[0;34m)\u001b[0m\u001b[0;34m,\u001b[0m\u001b[0;34m\u001b[0m\u001b[0;34m\u001b[0m\u001b[0m\n\u001b[0m\u001b[1;32m     93\u001b[0m      'method': 'animate'}\n\u001b[1;32m     94\u001b[0m     \u001b[0msliders_dict\u001b[0m\u001b[0;34m[\u001b[0m\u001b[0;34m'steps'\u001b[0m\u001b[0;34m]\u001b[0m\u001b[0;34m.\u001b[0m\u001b[0mappend\u001b[0m\u001b[0;34m(\u001b[0m\u001b[0mslider_step\u001b[0m\u001b[0;34m)\u001b[0m\u001b[0;34m\u001b[0m\u001b[0;34m\u001b[0m\u001b[0m\n",
      "\u001b[0;31mNameError\u001b[0m: name 'valoresfitness' is not defined"
     ]
    }
   ],
   "source": [
    "sliders_dict = {\n",
    "    'active': 0,\n",
    "    'yanchor': 'top',\n",
    "    'xanchor': 'left',\n",
    "    'currentvalue': {\n",
    "        'font': {'size': 20},\n",
    "        'prefix': 'Iter:',\n",
    "        'visible': True,\n",
    "        'xanchor': 'right'\n",
    "    },\n",
    "    'transition': {'duration': 300, 'easing': 'cubic-in-out'},\n",
    "    'pad': {'b': 10, 't': 50},\n",
    "    'len': 0.9,\n",
    "    'x': 0.1,\n",
    "    'y': 0,\n",
    "    'steps': []\n",
    "}\n",
    "\n",
    "\n",
    "updatemenus_dict = [\n",
    "    {\n",
    "        'buttons': [\n",
    "            {\n",
    "                'args': [None, {'frame': {'duration': 500, 'redraw': False},\n",
    "                         'fromcurrent': True, 'transition': {'duration': 300, 'easing': 'quadratic-in-out'}}],\n",
    "                'label': 'Play',\n",
    "                'method': 'animate'\n",
    "            },\n",
    "            {\n",
    "                'args': [[None], {'frame': {'duration': 0, 'redraw': False}, 'mode': 'immediate',\n",
    "                'transition': {'duration': 0}}],\n",
    "                'label': 'Pause',\n",
    "                'method': 'animate'\n",
    "            }\n",
    "        ],\n",
    "        'direction': 'left',\n",
    "        'pad': {'r': 10, 't': 87},\n",
    "        'showactive': False,\n",
    "        'type': 'buttons',\n",
    "        'x': 0.1,\n",
    "        'xanchor': 'right',\n",
    "        'y': 0,\n",
    "        'yanchor': 'top'\n",
    "    }\n",
    "]\n",
    "\n",
    "figure = {\n",
    "    'data': [],\n",
    "    'layout': {'title': 'Agente viajero: HAEA',\n",
    "               'xaxis': {'range': [0, 100], 'autorange': False},\n",
    "               'yaxis': {'range': [0, 100], 'autorange': False},\n",
    "              },\n",
    "    'frames': []\n",
    "}\n",
    "figure['layout']['updatemenus'] = updatemenus_dict\n",
    "funcion = {\n",
    "    'xsrc': grid.get_column_reference('xfunc'),\n",
    "    'ysrc': grid.get_column_reference('yfunc'),\n",
    "    'mode': 'markers',\n",
    "    'marker': {\n",
    "            'size': 10,\n",
    "            'color': '#000000'\n",
    "        },\n",
    "}\n",
    "figure['data'].append(funcion)\n",
    "individuos = {\n",
    "    'xsrc': grid.get_column_reference('x0'),\n",
    "    'ysrc': grid.get_column_reference('y0'),\n",
    "    'mode': 'lines',\n",
    "        'marker': {\n",
    "            'size': 10,\n",
    "            'color': '#ff7777'\n",
    "        },\n",
    "}\n",
    "figure['data'].append(individuos)\n",
    "for i in range(0,len(columnasx)):\n",
    "    frame = {'data': [], 'name': str(i)}\n",
    "    data_dict = {\n",
    "        'xsrc': grid.get_column_reference('x'+str(i)),\n",
    "        'ysrc': grid.get_column_reference('y'+str(i)),\n",
    "        'mode': 'lines',\n",
    "    }\n",
    "    frame['data'].append({})\n",
    "    frame['data'].append(data_dict)\n",
    "    figure['frames'].append(frame)\n",
    "    slider_step = {'args': [\n",
    "        [i],\n",
    "        {'frame': {'duration': 300, 'redraw': False},\n",
    "         'mode': 'immediate',\n",
    "       'transition': {'duration': 300}}\n",
    "     ],\n",
    "     'label': str(i) + \", fitness: \" + str(valoresfitness[i]),\n",
    "     'method': 'animate'}\n",
    "    sliders_dict['steps'].append(slider_step)\n",
    "figure['layout']['sliders'] = [sliders_dict]\n",
    "py.icreate_animations(figure,'AV_HAEA__'+str(time.time()))"
   ]
  },
  {
   "cell_type": "code",
   "execution_count": null,
   "metadata": {
    "ExecuteTime": {
     "end_time": "2019-03-06T03:32:45.168195Z",
     "start_time": "2019-03-06T03:32:45.158188Z"
    }
   },
   "outputs": [],
   "source": []
  }
 ],
 "metadata": {
  "kernelspec": {
   "display_name": "Python 3",
   "language": "python",
   "name": "python3"
  },
  "language_info": {
   "codemirror_mode": {
    "name": "ipython",
    "version": 3
   },
   "file_extension": ".py",
   "mimetype": "text/x-python",
   "name": "python",
   "nbconvert_exporter": "python",
   "pygments_lexer": "ipython3",
   "version": "3.6.7"
  }
 },
 "nbformat": 4,
 "nbformat_minor": 2
}
