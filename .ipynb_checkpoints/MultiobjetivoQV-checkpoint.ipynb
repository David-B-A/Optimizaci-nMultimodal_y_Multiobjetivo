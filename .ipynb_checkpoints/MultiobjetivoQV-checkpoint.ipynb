{
 "cells": [
  {
   "cell_type": "code",
   "execution_count": 10,
   "metadata": {
    "ExecuteTime": {
     "end_time": "2019-03-01T09:02:29.152612Z",
     "start_time": "2019-03-01T09:02:28.438191Z"
    }
   },
   "outputs": [],
   "source": [
    "import numpy as np\n",
    "import random\n",
    "import math\n",
    "import matplotlib.pyplot as plt"
   ]
  },
  {
   "cell_type": "code",
   "execution_count": 59,
   "metadata": {
    "ExecuteTime": {
     "end_time": "2019-03-01T10:17:49.560129Z",
     "start_time": "2019-03-01T10:17:49.535843Z"
    }
   },
   "outputs": [],
   "source": [
    "class individuo:\n",
    "    x = []\n",
    "    f1 = 0\n",
    "    f2 = 0\n",
    "    f = 0\n",
    "    s = 0\n",
    "class powerLaw:\n",
    "    def generate(self, alpha):\n",
    "        nd = random.random()*2;\n",
    "        if nd >= 1:\n",
    "            return math.pow((2-nd),(1/(1-alpha)))\n",
    "        else:\n",
    "            return -math.pow((nd),(1/(1-alpha)));"
   ]
  },
  {
   "cell_type": "code",
   "execution_count": 23,
   "metadata": {
    "ExecuteTime": {
     "end_time": "2019-03-01T09:11:07.840971Z",
     "start_time": "2019-03-01T09:11:07.816420Z"
    }
   },
   "outputs": [],
   "source": [
    "#UR\n",
    "class urf1:\n",
    "    def f(self,x):\n",
    "        suma = 0\n",
    "        n=len(x)\n",
    "        for i in range(0,n-1):\n",
    "            suma += -10*math.exp(-0.2*math.sqrt(x[i]**2 + x[i+1]**2))\n",
    "        return suma\n",
    "class urf2:\n",
    "    def f(self,x):\n",
    "        suma = 0\n",
    "        n = len(x)\n",
    "        for i in range(0, n):\n",
    "            suma += abs(x[i])**0.8 + math.sin(x[i])**3\n",
    "        return suma\n",
    "#QV\n",
    "class qvf1:\n",
    "    def f(self,x):\n",
    "        suma = 0\n",
    "        n=len(x)\n",
    "        for i in range(0,n):\n",
    "            suma += x[i]**2-10*math.cos(2*math.pi*x[i])+10\n",
    "        return (suma/n)**0.25\n",
    "class qvf2:\n",
    "    def f(self,x):\n",
    "        suma = 0\n",
    "        n = len(x)\n",
    "        for i in range(0, n):\n",
    "            suma += (x[i]-1.5)**2-10*math.cos(2*math.pi*(x[i]-1.5)) +10\n",
    "        return (suma/n)**0.25"
   ]
  },
  {
   "cell_type": "code",
   "execution_count": 38,
   "metadata": {
    "ExecuteTime": {
     "end_time": "2019-03-01T09:17:52.043561Z",
     "start_time": "2019-03-01T09:17:51.793879Z"
    }
   },
   "outputs": [
    {
     "data": {
      "text/plain": [
       "[<matplotlib.lines.Line2D at 0x7f766b912518>]"
      ]
     },
     "execution_count": 38,
     "metadata": {},
     "output_type": "execute_result"
    },
    {
     "data": {
      "image/png": "[encoded data removed]",
      "text/plain": [
       "<Figure size 432x288 with 1 Axes>"
      ]
     },
     "metadata": {
      "needs_background": "light"
     },
     "output_type": "display_data"
    }
   ],
   "source": [
    "a=-5\n",
    "b=5\n",
    "x = np.arange(a,b,0.2)\n",
    "y = np.arange(a,b,0.2)\n",
    "f1 = urf1()\n",
    "f2 = urf2()\n",
    "f1v = []\n",
    "f2v = []\n",
    "for i in range(0, len(x)):\n",
    "    for j in range(0, len(y)):\n",
    "        f1v.append(f1.f([x[i],y[j]]))\n",
    "        f2v.append(f2.f([x[i],y[j]]))\n",
    "plt.plot(f1v,f2v,'o')"
   ]
  },
  {
   "cell_type": "code",
   "execution_count": 253,
   "metadata": {
    "ExecuteTime": {
     "end_time": "2019-03-01T11:29:36.503622Z",
     "start_time": "2019-03-01T11:29:36.272448Z"
    }
   },
   "outputs": [
    {
     "data": {
      "text/plain": [
       "[<matplotlib.lines.Line2D at 0x7f7662bb7f28>]"
      ]
     },
     "execution_count": 253,
     "metadata": {},
     "output_type": "execute_result"
    },
    {
     "data": {
      "image/png": "[encoded data removed]",
      "text/plain": [
       "<Figure size 432x288 with 1 Axes>"
      ]
     },
     "metadata": {
      "needs_background": "light"
     },
     "output_type": "display_data"
    }
   ],
   "source": [
    "a=-1000\n",
    "b=1000\n",
    "x = np.arange(a,b,200)\n",
    "y = np.arange(a,b,200)\n",
    "f1 = qvf1()\n",
    "f2 = qvf2()\n",
    "f1v = []\n",
    "f2v = []\n",
    "for i in range(0, len(x)):\n",
    "    for j in range(0, len(y)):\n",
    "        f1v.append(f1.f([x[i],y[j]]))\n",
    "        f2v.append(f2.f([x[i],y[j]]))\n",
    "plt.plot(f1v,f2v,'o')"
   ]
  },
  {
   "cell_type": "code",
   "execution_count": 254,
   "metadata": {
    "ExecuteTime": {
     "end_time": "2019-03-01T11:29:39.451419Z",
     "start_time": "2019-03-01T11:29:39.430429Z"
    }
   },
   "outputs": [
    {
     "data": {
      "text/plain": [
       "100"
      ]
     },
     "execution_count": 254,
     "metadata": {},
     "output_type": "execute_result"
    }
   ],
   "source": [
    "len(f2v)"
   ]
  },
  {
   "cell_type": "code",
   "execution_count": 255,
   "metadata": {
    "ExecuteTime": {
     "end_time": "2019-03-01T11:29:46.030564Z",
     "start_time": "2019-03-01T11:29:45.993562Z"
    }
   },
   "outputs": [],
   "source": [
    "class spea2:\n",
    "    def iniciarPoblacion(self, n, p):\n",
    "        for i in range(0,n):\n",
    "            temp = individuo()\n",
    "            x = []\n",
    "            for j in range(0,d):\n",
    "                x.append(randpl.generate(alpha))\n",
    "            temp.x = x\n",
    "            temp.f1 = f1.f(x)\n",
    "            temp.f2 = f2.f(x)\n",
    "            p.append(temp)\n",
    "        self.calcularFuerza(p)\n",
    "        self.calcularFitness(p)\n",
    "        pass\n",
    "    def calcularFuerza(self, p):\n",
    "        for i in range(0,len(p)):\n",
    "            for j in range(0,len(p)):\n",
    "                if p[i].f1 < p[j].f1:\n",
    "                    if p[i].f2 < p[j].f2:\n",
    "                        p[i].s = p[i].s + 1\n",
    "        pass\n",
    "    def calcularFitness(self, p):\n",
    "        for i in range(0,len(p)):\n",
    "            for j in range(0,len(p)):\n",
    "                if p[j].f1 < p[i].f1:\n",
    "                    if p[j].f2 < p[i].f2:\n",
    "                        p[i].f = p[i].f + p[j].s + 1\n",
    "        pass\n",
    "    def tomarArchivo(self, p, pp, npp):\n",
    "        t = p + pp\n",
    "        t.sort(key=lambda t: t.f)\n",
    "        r = t[0:npp].copy()\n",
    "        return r\n",
    "    def cruce(self,pp,p,n):\n",
    "        np = []\n",
    "        for i in range(0,n):\n",
    "            temp = individuo()\n",
    "            xn = []\n",
    "            pos1 = int(random.uniform(0, len(pp)-1))\n",
    "            p1 = pp[pos1]\n",
    "            pos2 = int(random.uniform(0, len(p)-1))\n",
    "            p2 = p[pos2]\n",
    "            alphas = []\n",
    "            alphasum = 0\n",
    "            for j in range(0,d):\n",
    "                alph = random.random()\n",
    "                alphas.append(alph)\n",
    "                alphasum += alph\n",
    "            for j in range(0,d):\n",
    "                alphas[j] = alphas[j]/alphasum\n",
    "            for j in range(0,d):\n",
    "                xn.append(p1.x[j]*alphas[j] + p2.x[j]*(1-alphas[j]))\n",
    "            temp.x = xn\n",
    "            temp.f1 = f1.f(xn)\n",
    "            temp.f2 = f2.f(xn)\n",
    "            np.append(temp)\n",
    "        self.calcularFuerza(np)\n",
    "        self.calcularFitness(np)\n",
    "        return np"
   ]
  },
  {
   "cell_type": "code",
   "execution_count": 256,
   "metadata": {
    "ExecuteTime": {
     "end_time": "2019-03-01T11:29:49.816328Z",
     "start_time": "2019-03-01T11:29:49.784803Z"
    }
   },
   "outputs": [],
   "source": [
    "iter = 10\n",
    "p = []\n",
    "d = 1\n",
    "n = 20 #individuos\n",
    "npp = 10 #tamaño archivo\n",
    "alpha = 1.8\n",
    "randpl = powerLaw()\n",
    "f1 = qvf1()\n",
    "f2 = qvf2()\n",
    "algor = spea2()\n",
    "algor.iniciarPoblacion(n,p)\n",
    "pp=[] #archivo\n",
    "f1frames=[]\n",
    "f2frames=[]\n",
    "for i in range(0,iter):\n",
    "    pp = algor.tomarArchivo(p,pp,npp)\n",
    "    f1frame = []\n",
    "    f2frame = []\n",
    "    for j in range(0,len(pp)):\n",
    "        f1frame.append(pp[j].f1)\n",
    "        f2frame.append(pp[j].f2)\n",
    "    f1frames.append(f1frame)\n",
    "    f2frames.append(f2frame)\n",
    "    p = algor.cruce(pp,p,n)"
   ]
  },
  {
   "cell_type": "code",
   "execution_count": 257,
   "metadata": {
    "ExecuteTime": {
     "end_time": "2019-03-01T11:29:51.449182Z",
     "start_time": "2019-03-01T11:29:51.432407Z"
    }
   },
   "outputs": [
    {
     "data": {
      "text/plain": [
       "100"
      ]
     },
     "execution_count": 257,
     "metadata": {},
     "output_type": "execute_result"
    }
   ],
   "source": [
    "len(f2v)"
   ]
  },
  {
   "cell_type": "code",
   "execution_count": 310,
   "metadata": {
    "ExecuteTime": {
     "end_time": "2019-03-01T11:52:27.299871Z",
     "start_time": "2019-03-01T11:52:26.277893Z"
    }
   },
   "outputs": [],
   "source": [
    "import plotly.plotly as py\n",
    "from plotly.grid_objs import Grid, Column\n",
    "import time\n",
    "py.sign_in('research123', 'nhcP58x2hVKS1GIuA7NF')"
   ]
  },
  {
   "cell_type": "code",
   "execution_count": 314,
   "metadata": {
    "ExecuteTime": {
     "end_time": "2019-03-01T11:54:32.398253Z",
     "start_time": "2019-03-01T11:54:30.954320Z"
    }
   },
   "outputs": [
    {
     "data": {
      "text/plain": [
       "'https://plot.ly/~research123/3/'"
      ]
     },
     "execution_count": 314,
     "metadata": {},
     "output_type": "execute_result"
    }
   ],
   "source": [
    "columns = []\n",
    "for i in range(0, len(f1frames)):\n",
    "    temp = Column(f1frames[i], 'x'+str(i))\n",
    "    columns.append(temp)\n",
    "for i in range(0, len(f2frames)):\n",
    "    temp = Column(f2frames[i], 'y'+str(i))\n",
    "    columns.append(temp)\n",
    "temp = Column(f1v, 'xfunc')\n",
    "columns.append(temp)\n",
    "temp = Column(f1v, 'yfunc')\n",
    "columns.append(temp)\n",
    "\n",
    "grid = Grid(columns)\n",
    "py.grid_ops.upload(grid, 'spea__'+str(time.time()), auto_open=False)"
   ]
  },
  {
   "cell_type": "code",
   "execution_count": 318,
   "metadata": {
    "ExecuteTime": {
     "end_time": "2019-03-01T11:58:41.827802Z",
     "start_time": "2019-03-01T11:58:40.722558Z"
    }
   },
   "outputs": [
    {
     "data": {
      "text/html": [
       "<iframe id=\"igraph\" scrolling=\"no\" style=\"border:none;\" seamless=\"seamless\" src=\"https://plot.ly/~research123/7.embed\" height=\"525px\" width=\"100%\"></iframe>"
      ],
      "text/plain": [
       "<plotly.tools.PlotlyDisplay object>"
      ]
     },
     "execution_count": 318,
     "metadata": {},
     "output_type": "execute_result"
    }
   ],
   "source": [
    "sliders_dict = {\n",
    "    'active': 0,\n",
    "    'yanchor': 'top',\n",
    "    'xanchor': 'left',\n",
    "    'currentvalue': {\n",
    "        'font': {'size': 20},\n",
    "        'prefix': 'Iter:',\n",
    "        'visible': True,\n",
    "        'xanchor': 'right'\n",
    "    },\n",
    "    'transition': {'duration': 300, 'easing': 'cubic-in-out'},\n",
    "    'pad': {'b': 10, 't': 50},\n",
    "    'len': 0.9,\n",
    "    'x': 0.1,\n",
    "    'y': 0,\n",
    "    'steps': []\n",
    "}\n",
    "\n",
    "\n",
    "updatemenus_dict = [\n",
    "    {\n",
    "        'buttons': [\n",
    "            {\n",
    "                'args': [None, {'frame': {'duration': 500, 'redraw': False},\n",
    "                         'fromcurrent': True, 'transition': {'duration': 300, 'easing': 'quadratic-in-out'}}],\n",
    "                'label': 'Play',\n",
    "                'method': 'animate'\n",
    "            },\n",
    "            {\n",
    "                'args': [[None], {'frame': {'duration': 0, 'redraw': False}, 'mode': 'immediate',\n",
    "                'transition': {'duration': 0}}],\n",
    "                'label': 'Pause',\n",
    "                'method': 'animate'\n",
    "            }\n",
    "        ],\n",
    "        'direction': 'left',\n",
    "        'pad': {'r': 10, 't': 87},\n",
    "        'showactive': False,\n",
    "        'type': 'buttons',\n",
    "        'x': 0.1,\n",
    "        'xanchor': 'right',\n",
    "        'y': 0,\n",
    "        'yanchor': 'top'\n",
    "    }\n",
    "]\n",
    "\n",
    "figure = {\n",
    "    'data': [],\n",
    "    'layout': {'title': 'Deterministic crowding',\n",
    "               'xaxis': {'range': [0, 2], 'autorange': True},\n",
    "               'yaxis': {'range': [0, 2], 'autorange': True},\n",
    "              },\n",
    "    'frames': []\n",
    "}\n",
    "figure['layout']['updatemenus'] = updatemenus_dict\n",
    "funcion = {\n",
    "    'xsrc': grid.get_column_reference('xfunc'),\n",
    "    'ysrc': grid.get_column_reference('yfunc'),\n",
    "    'mode': 'markers',\n",
    "    'marker': {\n",
    "            'size': 8,\n",
    "            'color': '#000000'\n",
    "        },\n",
    "}\n",
    "figure['data'].append(funcion)\n",
    "individuos = {\n",
    "    'xsrc': grid.get_column_reference('x0'),\n",
    "    'ysrc': grid.get_column_reference('y0'),\n",
    "    'mode': 'markers',\n",
    "        'marker': {\n",
    "            'size': 6,\n",
    "            'color': '#00aaff'\n",
    "        },\n",
    "}\n",
    "figure['data'].append(individuos)\n",
    "for i in range(0,len(f1frames)):\n",
    "    frame = {'data': [], 'name': str(i)}\n",
    "    data_dict = {\n",
    "        'xsrc': grid.get_column_reference('x'+str(i)),\n",
    "        'ysrc': grid.get_column_reference('y'+str(i)),\n",
    "        'mode': 'markers',\n",
    "    }\n",
    "    frame['data'].append({})\n",
    "    frame['data'].append(data_dict)\n",
    "    figure['frames'].append(frame)\n",
    "    slider_step = {'args': [\n",
    "        [i],\n",
    "        {'frame': {'duration': 300, 'redraw': False},\n",
    "         'mode': 'immediate',\n",
    "       'transition': {'duration': 300}}\n",
    "     ],\n",
    "     'label': i,\n",
    "     'method': 'animate'}\n",
    "    sliders_dict['steps'].append(slider_step)\n",
    "figure['layout']['sliders'] = [sliders_dict]\n",
    "py.icreate_animations(figure,'Sharing__'+str(time.time()))"
   ]
  },
  {
   "cell_type": "code",
   "execution_count": 311,
   "metadata": {
    "ExecuteTime": {
     "end_time": "2019-03-01T11:52:31.724932Z",
     "start_time": "2019-03-01T11:52:31.714019Z"
    }
   },
   "outputs": [],
   "source": []
  }
 ],
 "metadata": {
  "kernelspec": {
   "display_name": "Python 3",
   "language": "python",
   "name": "python3"
  },
  "language_info": {
   "codemirror_mode": {
    "name": "ipython",
    "version": 3
   },
   "file_extension": ".py",
   "mimetype": "text/x-python",
   "name": "python",
   "nbconvert_exporter": "python",
   "pygments_lexer": "ipython3",
   "version": "3.6.7"
  }
 },
 "nbformat": 4,
 "nbformat_minor": 2
}
