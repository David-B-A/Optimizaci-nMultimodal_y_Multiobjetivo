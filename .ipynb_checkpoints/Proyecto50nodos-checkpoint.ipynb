{
 "cells": [
  {
   "cell_type": "code",
   "execution_count": 1,
   "metadata": {
    "ExecuteTime": {
     "end_time": "2019-03-06T08:36:16.542531Z",
     "start_time": "2019-03-06T08:36:16.280706Z"
    }
   },
   "outputs": [],
   "source": [
    "import numpy as np\n",
    "import random\n",
    "import math\n",
    "import csv\n",
    "import matplotlib.pyplot as plt  "
   ]
  },
  {
   "cell_type": "code",
   "execution_count": 2,
   "metadata": {
    "ExecuteTime": {
     "end_time": "2019-03-06T08:36:17.199753Z",
     "start_time": "2019-03-06T08:36:17.175738Z"
    }
   },
   "outputs": [
    {
     "data": {
      "text/plain": [
       "'\\nn = 50\\nmcostos = np.empty((n,n))\\nfor i in range(0,n):\\n    mcostos[i,i] = 0\\n    for j in range(i+1,n):\\n        mcostos[i,j] = int(random.random()*100)\\n        mcostos[j,i] = mcostos[i,j]\\nf = open(\"/home/dabelloa/Documents/Evolutiva/AgenteViajeroMcostos50.csv\",\\'w\\')\\nwith f:\\n    writer = csv.writer(f)\\n    writer.writerows(mcostos)\\n'"
      ]
     },
     "execution_count": 2,
     "metadata": {},
     "output_type": "execute_result"
    }
   ],
   "source": [
    "## Imprimir Matriz Costos\n",
    "'''\n",
    "n = 50\n",
    "mcostos = np.empty((n,n))\n",
    "for i in range(0,n):\n",
    "    mcostos[i,i] = 0\n",
    "    for j in range(i+1,n):\n",
    "        mcostos[i,j] = int(random.random()*100)\n",
    "        mcostos[j,i] = mcostos[i,j]\n",
    "f = open(\"/home/dabelloa/Documents/Evolutiva/AgenteViajeroMcostos50.csv\",'w')\n",
    "with f:\n",
    "    writer = csv.writer(f)\n",
    "    writer.writerows(mcostos)\n",
    "'''"
   ]
  },
  {
   "cell_type": "code",
   "execution_count": 3,
   "metadata": {
    "ExecuteTime": {
     "end_time": "2019-03-06T08:36:18.375986Z",
     "start_time": "2019-03-06T08:36:18.369383Z"
    }
   },
   "outputs": [],
   "source": [
    "def sdmediana(vector):\n",
    "    suma = 0\n",
    "    mediana = np.median(vector)\n",
    "    for i in range(0,len(vector)):\n",
    "        suma += (vector[i]- mediana)**2\n",
    "    return math.sqrt(suma/len(vector))"
   ]
  },
  {
   "cell_type": "code",
   "execution_count": 27,
   "metadata": {
    "ExecuteTime": {
     "end_time": "2019-03-06T08:49:29.387732Z",
     "start_time": "2019-03-06T08:49:29.318895Z"
    },
    "code_folding": [
     0,
     4,
     9,
     18,
     194
    ]
   },
   "outputs": [],
   "source": [
    "class powerLaw:\n",
    "    def generate(self, alpha, mult):\n",
    "        nd = random.random();\n",
    "        return mult*math.pow((nd),(1/(1-alpha)));\n",
    "class individuo:\n",
    "    x=[]\n",
    "    f=0\n",
    "    pc = 0\n",
    "    pm = 0\n",
    "class agViajero:\n",
    "    def __init__(self,mcostos):\n",
    "        self.mcostos = mcostos\n",
    "    def fitness(self,x):\n",
    "        costo = 0\n",
    "        for i in range(1,len(x)):\n",
    "            costo = costo + self.mcostos[x[i-1],x[i]]\n",
    "        costo = costo + self.mcostos[x[0],x[len(x)-1]]\n",
    "        return costo\n",
    "class ascColina:\n",
    "    def nuevaGen(self, padre, mult, alpha, func):\n",
    "        hijo = individuo()\n",
    "        hijo.x = padre.x.copy()\n",
    "        pl = powerLaw()\n",
    "        aCambiar = int(pl.generate(3,2))\n",
    "        if aCambiar > len(x)/2 - 1:\n",
    "            aCambiar = len(x)/2 - 1\n",
    "        if aCambiar < 1:\n",
    "            aCambiar = 1\n",
    "        posiciones = []\n",
    "        for i in range(0,int(aCambiar*2)):\n",
    "            propuesta = int(random.uniform(0,len(x)))\n",
    "            aceptable = True\n",
    "            for j in range(0,len(posiciones)):\n",
    "                if propuesta == posiciones[j] or propuesta >= len(x):\n",
    "                    aceptable = False\n",
    "            if aceptable:\n",
    "                posiciones.append(propuesta)\n",
    "            else:\n",
    "                i = i-1\n",
    "        for i in range(0, int(len(posiciones)/2)):\n",
    "            j = int(len(posiciones)/2) + i\n",
    "            temp = hijo.x[posiciones[i]]\n",
    "            hijo.x[posiciones[i]] = hijo.x[posiciones[j]]\n",
    "            hijo.x[posiciones[j]] = temp\n",
    "        f = func.fitness(hijo.x)\n",
    "        hijo.f = f        \n",
    "        if padre.f <= hijo.f:\n",
    "            return padre\n",
    "        else:\n",
    "            return hijo\n",
    "class haea:\n",
    "    def iniciarPoblacion(self, n, d, alpha, mult, func):\n",
    "        p = []\n",
    "        pl = powerLaw()\n",
    "        for i in range(0,n):\n",
    "            temp = individuo()\n",
    "            x = range(0,d)\n",
    "            x = np.array(x)\n",
    "            random.shuffle(x)\n",
    "            temp.x = x\n",
    "#             temp.pc = random.random()\n",
    "#             temp.pm = 1-temp.pc\n",
    "            pc = random.random()\n",
    "            pm = random.random()\n",
    "            temp.pc = pc/(pc+pm)\n",
    "            temp.pm = pm/(pc+pm)\n",
    "            temp.f = func.fitness(temp.x)\n",
    "            p.append(temp)\n",
    "        return p\n",
    "    def nuevaGen(self, n, p, alpha,mult,func):\n",
    "        npob = []\n",
    "        for i in range(0,n):\n",
    "            if random.random() < p[i].pc:\n",
    "                pareja = self.selectorTorneo(p)\n",
    "                hijo = self.cruce(p[i], pareja, func)\n",
    "                npob.append(hijo)\n",
    "            else:\n",
    "                hijo = self.mutacion(p[i], alpha, mult,func)\n",
    "                npob.append(hijo)\n",
    "        return npob\n",
    "    def selectorTorneo(self, p):\n",
    "        contrinc = []\n",
    "        for i in range(0,4):\n",
    "            pos = int(random.random()*len(p))\n",
    "            contrinc.append(p[pos])\n",
    "        contrinc.sort(key=lambda contrinc: contrinc.f)\n",
    "        return contrinc[0];\n",
    "    def mutacion(self, padre, alpha, mult, func):\n",
    "        pl = powerLaw()\n",
    "        hijo = individuo()\n",
    "        aCambiar = int(pl.generate(3,2))\n",
    "        if aCambiar > len(padre.x)/2 - 1:\n",
    "            aCambiar = len(padre.x)/2 - 1\n",
    "        if aCambiar < 1:\n",
    "            aCambiar = 1\n",
    "        posiciones = []\n",
    "        for i in range(0,int(aCambiar*2)):\n",
    "            propuesta = int(random.uniform(0,len(padre.x)))\n",
    "            aceptable = True\n",
    "            for j in range(0,len(posiciones)):\n",
    "                if propuesta == posiciones[j] or propuesta >= len(padre.x):\n",
    "                    aceptable = False\n",
    "            if aceptable:\n",
    "                posiciones.append(propuesta)\n",
    "            else:\n",
    "                i = i-1\n",
    "        x = padre.x.copy()\n",
    "        for i in range(0, int(len(posiciones)/2)):\n",
    "            j = int(len(posiciones)/2) + i\n",
    "            temp = x[posiciones[i]]\n",
    "            x[posiciones[i]] = x[posiciones[j]]\n",
    "            x[posiciones[j]] = temp\n",
    "        hijo.x = x.copy()\n",
    "        hijo.f = func.fitness(hijo.x)\n",
    "        pc = individuo.pc\n",
    "        pm = individuo.pm\n",
    "        if padre.f <= hijo.f:\n",
    "            pc = pc + random.random()\n",
    "            pc = pc/(pc+pm)\n",
    "            pm = pm/(pc+pm)\n",
    "            padre.pc = pc\n",
    "            padre.pm = pm\n",
    "            return padre\n",
    "        else:\n",
    "            pm = pm + random.random()\n",
    "            pc = pc/(pc+pm)\n",
    "            pm = pm/(pc+pm)\n",
    "            hijo.pc = pc\n",
    "            hijo.pm = pm\n",
    "            return hijo\n",
    "    def cruce(self, individuo1,individuo2, func):\n",
    "        pos = int(random.uniform(0,len(individuo1.x)))\n",
    "        hijo = individuo()\n",
    "        x1 = []\n",
    "        x2 = []\n",
    "        for i in range(0,pos):\n",
    "            x1.append(individuo1.x[i])\n",
    "            x2.append(individuo2.x[i])\n",
    "        for i in range(pos,len(individuo1.x)):\n",
    "            k= i\n",
    "            while True:\n",
    "                x1t = individuo2.x[k]\n",
    "                diferente = True\n",
    "                for j in range(0,len(x1)):\n",
    "                    if x1t == x1[j]:\n",
    "                        diferente = False\n",
    "                if diferente:\n",
    "                    x1.append(x1t)\n",
    "                    break\n",
    "                else:\n",
    "                    if k < len(individuo2.x)-1:\n",
    "                        k = k+1\n",
    "                    else:\n",
    "                        k = 0\n",
    "            k= i\n",
    "            while True:\n",
    "                x2t = individuo1.x[k]\n",
    "                diferente = True\n",
    "                for j in range(0,len(x2)):\n",
    "                    if x2t == x2[j]:\n",
    "                        diferente = False\n",
    "                if diferente:\n",
    "                    x2.append(x2t)\n",
    "                    break\n",
    "                else:\n",
    "                    if k < len(individuo1.x)-1:\n",
    "                        k = k+1\n",
    "                    else:\n",
    "                        k = 0\n",
    "        f1 = func.fitness(x1)\n",
    "        f2 = func.fitness(x2)\n",
    "        if f1 < f2:\n",
    "            hijo.x = x1.copy()\n",
    "            hijo.f = f1\n",
    "        else:\n",
    "            hijo.x = x2.copy()\n",
    "            hijo.f = f2\n",
    "        padre = individuo()\n",
    "        padre.x = individuo1.x\n",
    "        padre.f = individuo1.f\n",
    "        pc = individuo1.pc\n",
    "        pm = individuo1.pm\n",
    "        if padre.f <= hijo.f:\n",
    "            pm = pm + random.random()\n",
    "            pc = pc/(pc+pm)\n",
    "            pm = pm/(pc+pm)\n",
    "            padre.pc = pc\n",
    "            padre.pm = pm\n",
    "            return padre\n",
    "        else:\n",
    "            pc = pc + random.random()\n",
    "            pc = pc/(pc+pm)\n",
    "            pm = pm/(pc+pm)\n",
    "            hijo.pc = pc\n",
    "            hijo.pm = pm\n",
    "            return hijo\n",
    "class heuristucaNNMatriz:\n",
    "    def solucionar(self, n, matriz):\n",
    "        factibles = list(range(0,n))\n",
    "        posnuevo = int(random.random()*n)\n",
    "        x = []\n",
    "        x.append(factibles[posnuevo])\n",
    "        factibles = factibles[0:posnuevo] + factibles[posnuevo + 1:]\n",
    "        while len(factibles) > 0:\n",
    "            posnuevo = 0\n",
    "            mindist = matriz[x[len(x)-1],posnuevo]\n",
    "            for i in range(0,len(factibles)):\n",
    "                dist = matriz[x[len(x)-1],i]\n",
    "                if dist < mindist:\n",
    "                    posnuevo = i\n",
    "                    mindist = dist\n",
    "            x.append(factibles[posnuevo])\n",
    "            factibles = factibles[0:posnuevo] + factibles[posnuevo + 1:]\n",
    "        return x"
   ]
  },
  {
   "cell_type": "code",
   "execution_count": 28,
   "metadata": {
    "ExecuteTime": {
     "end_time": "2019-03-06T08:49:34.873799Z",
     "start_time": "2019-03-06T08:49:29.864167Z"
    },
    "code_folding": []
   },
   "outputs": [],
   "source": [
    "#Asc Colina\n",
    "rows = []\n",
    "with open('/home/dabelloa/Documents/Evolutiva/AgenteViajeroMcostos50.csv') as File:\n",
    "    reader = csv.reader(File, delimiter=',', quotechar=',',\n",
    "                        quoting=csv.QUOTE_MINIMAL)\n",
    "    for row in reader:\n",
    "        rows.append(row)\n",
    "    mcostos = np.array(rows)\n",
    "    mcostos = mcostos.astype(np.float)\n",
    "n = 100\n",
    "d = 50\n",
    "iteraciones = 1000\n",
    "data = []\n",
    "for z in range(0, n):\n",
    "    x = np.arange(0,d,1)\n",
    "    np.random.shuffle(x)\n",
    "    ind = individuo()\n",
    "    ind.x = x\n",
    "    func = agViajero(mcostos)\n",
    "    ind.f = func.fitness(x)\n",
    "    alg = ascColina()\n",
    "    columnasx = []\n",
    "    columnasy = []\n",
    "    valoresfitness = []\n",
    "    valoresfitness.append(ind.f)\n",
    "    for i in range(0, iteraciones):\n",
    "        temp = alg.nuevaGen(ind, 4, 2, func)\n",
    "        ind = temp\n",
    "        f = ind.f\n",
    "        valoresfitness.append(f)\n",
    "    data.append(valoresfitness)\n",
    "data = np.array(data)"
   ]
  },
  {
   "cell_type": "code",
   "execution_count": 29,
   "metadata": {
    "ExecuteTime": {
     "end_time": "2019-03-06T08:49:34.952389Z",
     "start_time": "2019-03-06T08:49:34.876884Z"
    }
   },
   "outputs": [
    {
     "name": "stdout",
     "output_type": "stream",
     "text": [
      "Mediana: 1149.0\n",
      "Desv. Est. Mediana: 302.9850690181812\n",
      "Media: 1307.3796203796203\n",
      "Desviación Estándar: 258.2941112305106\n",
      "Máximo: 2709.0\n",
      "Mínimo: 1114.0\n"
     ]
    }
   ],
   "source": [
    "x = np.arange(0, len(data))\n",
    "mediana = []\n",
    "maximo = []\n",
    "minimo = []\n",
    "desvestmn = []\n",
    "mnsup = []\n",
    "mninf = []\n",
    "for i in range(len(data)):\n",
    "    mediana.append(np.median(data[:,i]))\n",
    "    maximo.append(np.max(data[:,i]))\n",
    "    minimo.append(np.min(data[:,i]))\n",
    "    desvestmn.append(sdmediana(data[:,i]))\n",
    "    mnsup.append(np.median(data[:,i])+sdmediana(data[:,i]))\n",
    "    mninf.append(np.median(data[:,i])-sdmediana(data[:,i]))\n",
    "print(\"Mediana: \"+str(np.median(data[len(data)-1])))\n",
    "print(\"Desv. Est. Mediana: \"+str(sdmediana(data[len(data)-1])))\n",
    "print(\"Media: \"+str(np.mean(data[len(data)-1])))\n",
    "print(\"Desviación Estándar: \"+str(np.std(data[len(data)-1])))\n",
    "print(\"Máximo: \"+str(max(data[len(data)-1])))\n",
    "print(\"Mínimo: \"+str(min(data[len(data)-1])))"
   ]
  },
  {
   "cell_type": "code",
   "execution_count": 30,
   "metadata": {
    "ExecuteTime": {
     "end_time": "2019-03-06T08:49:35.187026Z",
     "start_time": "2019-03-06T08:49:34.954734Z"
    }
   },
   "outputs": [
    {
     "data": {
      "image/png": "[encoded data removed]",
      "text/plain": [
       "<Figure size 432x288 with 1 Axes>"
      ]
     },
     "metadata": {
      "needs_background": "light"
     },
     "output_type": "display_data"
    }
   ],
   "source": [
    "plt.figure()\n",
    "plt.plot(x, mediana, 'black', linewidth = 2, label = 'Mediana')\n",
    "plt.plot(x, maximo,'r', linewidth = 2, label = 'Máximo y mínimo')\n",
    "plt.plot(x, minimo,'r', linewidth = 2)\n",
    "plt.plot(x, mnsup,'y--', linewidth = 2, label = 'Desviación estándar')\n",
    "plt.plot(x, mninf,'y--', linewidth = 2)\n",
    "plt.legend(loc = 1)\n",
    "plt.xlabel(r\"Iteración\", fontsize = 24)\n",
    "plt.ylabel(r\"Fitness\", fontsize = 24)\n",
    "plt.title('Ascenso a la colina',fontsize = 28, color = '0.75', verticalalignment = 'baseline', horizontalalignment = 'center')\n",
    "plt.show()"
   ]
  },
  {
   "cell_type": "code",
   "execution_count": 31,
   "metadata": {
    "ExecuteTime": {
     "end_time": "2019-03-06T08:49:35.707459Z",
     "start_time": "2019-03-06T08:49:35.195849Z"
    },
    "code_folding": []
   },
   "outputs": [
    {
     "name": "stdout",
     "output_type": "stream",
     "text": [
      "Mediana: 2297.0\n",
      "Desv. Est. Mediana: 179.15308537672468\n",
      "Media: 2321.848\n",
      "Desviación Estándar: 177.42154574910003\n",
      "Máximo: 2782.0\n",
      "Mínimo: 1834.0\n"
     ]
    }
   ],
   "source": [
    "#Heurística\n",
    "rows = []\n",
    "with open('/home/dabelloa/Documents/Evolutiva/AgenteViajeroMcostos50.csv') as File:\n",
    "    reader = csv.reader(File, delimiter=',', quotechar=',',\n",
    "                        quoting=csv.QUOTE_MINIMAL)\n",
    "    for row in reader:\n",
    "        rows.append(row)\n",
    "    mcostos = np.array(rows)\n",
    "    mcostos = mcostos.astype(np.float)\n",
    "func = agViajero(mcostos)\n",
    "alg = heuristucaNNMatriz()\n",
    "n=1000\n",
    "d=50\n",
    "data = []\n",
    "for i in range(0,n):\n",
    "    sol = alg.solucionar(d,mcostos)\n",
    "    x = sol.copy()\n",
    "    x.append(sol[0])\n",
    "    f = func.fitness(x)\n",
    "    data.append(f)\n",
    "data = np.array(data)\n",
    "print(\"Mediana: \"+str(np.median(data)))\n",
    "print(\"Desv. Est. Mediana: \"+str(sdmediana(data)))\n",
    "print(\"Media: \"+str(np.mean(data)))\n",
    "print(\"Desviación Estándar: \"+str(np.std(data)))\n",
    "print(\"Máximo: \"+str(max(data)))\n",
    "print(\"Mínimo: \"+str(min(data)))"
   ]
  },
  {
   "cell_type": "code",
   "execution_count": 32,
   "metadata": {
    "ExecuteTime": {
     "end_time": "2019-03-06T08:50:27.386555Z",
     "start_time": "2019-03-06T08:49:35.710564Z"
    },
    "code_folding": []
   },
   "outputs": [],
   "source": [
    "#HAEA\n",
    "rows = []\n",
    "with open('/home/dabelloa/Documents/Evolutiva/AgenteViajeroMcostos50.csv') as File:\n",
    "    reader = csv.reader(File, delimiter=',', quotechar=',',\n",
    "                        quoting=csv.QUOTE_MINIMAL)\n",
    "    for row in reader:\n",
    "        rows.append(row)\n",
    "    mcostos = np.array(rows)\n",
    "    mcostos = mcostos.astype(np.float)\n",
    "n = 1000\n",
    "d = 50\n",
    "iteraciones = 100\n",
    "func = agViajero(mcostos)\n",
    "alg = haea()\n",
    "p = alg.iniciarPoblacion(n,d,2,4,func)\n",
    "data = []\n",
    "pc = []\n",
    "pm = []\n",
    "parcial = []\n",
    "sumapc = 0\n",
    "sumapm = 0\n",
    "for j in range(0, len(p)):\n",
    "    parcial.append(p[j].f)\n",
    "    sumapc += p[j].pc\n",
    "    sumapm += p[j].pm\n",
    "data.append(parcial)\n",
    "pc.append(sumapc/len(p))\n",
    "pm.append(sumapm/len(p))\n",
    "for i in range(0, iteraciones):\n",
    "    temp = 0\n",
    "    temp = alg.nuevaGen(n, p, 2, 4, func)\n",
    "    p = temp\n",
    "    parcial = []\n",
    "    sumapc = 0\n",
    "    sumapm = 0\n",
    "    for j in range(0, len(p)):\n",
    "        parcial.append(p[j].f)\n",
    "        sumapc += p[j].pc\n",
    "        sumapm += p[j].pm\n",
    "    data.append(parcial)\n",
    "    pc.append(sumapc/len(p))\n",
    "    pm.append(sumapm/len(p))\n",
    "data = np.array(data)\n",
    "data = data.transpose()"
   ]
  },
  {
   "cell_type": "code",
   "execution_count": 33,
   "metadata": {
    "ExecuteTime": {
     "end_time": "2019-03-06T08:50:27.640664Z",
     "start_time": "2019-03-06T08:50:27.388440Z"
    }
   },
   "outputs": [
    {
     "name": "stdout",
     "output_type": "stream",
     "text": [
      "Mediana: 600.0\n",
      "Desv. Est. Mediana: 558.6268702792767\n",
      "Media: 855.5643564356436\n",
      "Desviación Estándar: 496.74021371100525\n",
      "Máximo: 2651.0\n",
      "Mínimo: 529.0\n"
     ]
    }
   ],
   "source": [
    "x = np.arange(0, len(data[0,:]))\n",
    "mediana = []\n",
    "maximo = []\n",
    "minimo = []\n",
    "desvestmn = []\n",
    "mnsup = []\n",
    "mninf = []\n",
    "for i in range(len(data[0,:])):\n",
    "    mediana.append(np.median(data[:,i]))\n",
    "    maximo.append(np.max(data[:,i]))\n",
    "    minimo.append(np.min(data[:,i]))\n",
    "    desvestmn.append(sdmediana(data[:,i]))\n",
    "    mnsup.append(np.median(data[:,i])+sdmediana(data[:,i]))\n",
    "    mninf.append(np.median(data[:,i])-sdmediana(data[:,i]))\n",
    "print(\"Mediana: \"+str(np.median(data[len(data)-1])))\n",
    "print(\"Desv. Est. Mediana: \"+str(sdmediana(data[len(data)-1])))\n",
    "print(\"Media: \"+str(np.mean(data[len(data)-1])))\n",
    "print(\"Desviación Estándar: \"+str(np.std(data[len(data)-1])))\n",
    "print(\"Máximo: \"+str(max(data[len(data)-1])))\n",
    "print(\"Mínimo: \"+str(min(data[len(data)-1])))"
   ]
  },
  {
   "cell_type": "code",
   "execution_count": 34,
   "metadata": {
    "ExecuteTime": {
     "end_time": "2019-03-06T08:50:27.822750Z",
     "start_time": "2019-03-06T08:50:27.642811Z"
    }
   },
   "outputs": [
    {
     "data": {
      "image/png": "[encoded data removed]",
      "text/plain": [
       "<Figure size 432x288 with 1 Axes>"
      ]
     },
     "metadata": {
      "needs_background": "light"
     },
     "output_type": "display_data"
    }
   ],
   "source": [
    "plt.figure()\n",
    "plt.plot(x, mediana, 'black', linewidth = 2, label = 'Mediana')\n",
    "plt.plot(x, maximo,'r', linewidth = 2, label = 'Máximo y mínimo')\n",
    "plt.plot(x, minimo,'r', linewidth = 2)\n",
    "plt.plot(x, mnsup,'y--', linewidth = 2, label = 'Desviación estándar')\n",
    "plt.plot(x, mninf,'y--', linewidth = 2)\n",
    "plt.legend(loc = 1)\n",
    "plt.xlabel(r\"Iteración\", fontsize = 24)\n",
    "plt.ylabel(r\"Fitness\", fontsize = 24)\n",
    "# plt.title('HAEA',fontsize = 28, color = '0.75', verticalalignment = 'baseline', horizontalalignment = 'center')\n",
    "plt.show()"
   ]
  },
  {
   "cell_type": "code",
   "execution_count": 35,
   "metadata": {
    "ExecuteTime": {
     "end_time": "2019-03-06T08:50:28.009166Z",
     "start_time": "2019-03-06T08:50:27.827395Z"
    }
   },
   "outputs": [
    {
     "data": {
      "image/png": "[encoded data removed]",
      "text/plain": [
       "<Figure size 432x288 with 1 Axes>"
      ]
     },
     "metadata": {
      "needs_background": "light"
     },
     "output_type": "display_data"
    }
   ],
   "source": [
    "plt.figure()\n",
    "plt.plot(x, pm, 'b', linewidth = 2, label = 'Probabilidad de mutación')\n",
    "plt.plot(x, pc,'r', linewidth = 2, label = 'Probabilidad de cruce')\n",
    "plt.legend(loc = 1)\n",
    "plt.xlabel(r\"Iteración\", fontsize = 24)\n",
    "plt.ylabel(r\"Probabilidad\", fontsize = 24)\n",
    "plt.title('Convergencia HAEA',fontsize = 28, color = '0.75', verticalalignment = 'baseline', horizontalalignment = 'center')\n",
    "plt.show()"
   ]
  },
  {
   "cell_type": "code",
   "execution_count": null,
   "metadata": {},
   "outputs": [],
   "source": []
  }
 ],
 "metadata": {
  "kernelspec": {
   "display_name": "Python 3",
   "language": "python",
   "name": "python3"
  },
  "language_info": {
   "codemirror_mode": {
    "name": "ipython",
    "version": 3
   },
   "file_extension": ".py",
   "mimetype": "text/x-python",
   "name": "python",
   "nbconvert_exporter": "python",
   "pygments_lexer": "ipython3",
   "version": "3.6.7"
  }
 },
 "nbformat": 4,
 "nbformat_minor": 2
}
